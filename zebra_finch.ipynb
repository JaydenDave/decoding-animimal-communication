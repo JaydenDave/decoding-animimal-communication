{
 "cells": [
  {
   "cell_type": "code",
   "execution_count": 1,
   "metadata": {},
   "outputs": [],
   "source": [
    "import librosa\n",
    "import pandas as pd\n",
    "import numpy as np\n",
    "from IPython.lib.display import Audio\n",
    "from matplotlib import pyplot as plt\n",
    "import multiprocessing\n",
    "import scipy.signal\n",
    "from scipy.fft import fft\n",
    "import os"
   ]
  },
  {
   "cell_type": "code",
   "execution_count": 2,
   "metadata": {},
   "outputs": [],
   "source": [
    "data_dir = \"C:/Users/Jayde/Desktop/library/zebra_finch/data/\"\n",
    "anno = pd.read_csv(f'{data_dir}annotations.csv')\n",
    "\n",
    "audio = []\n",
    "srs= []\n",
    "\n",
    "#adding the audio data to the dataframe\n",
    "for _, row in anno.iterrows():\n",
    "    recording, sr = librosa.load(f'{data_dir}vocalizations/{row.fn}')\n",
    "    audio.append(recording)\n",
    "    srs.append(sr)\n",
    "    \n",
    "anno['audio'] = audio\n",
    "\n"
   ]
  },
  {
   "cell_type": "code",
   "execution_count": 12,
   "metadata": {},
   "outputs": [
    {
     "name": "stdout",
     "output_type": "stream",
     "text": [
      "processed 2969 out of 2969\n"
     ]
    }
   ],
   "source": [
    "recs = []\n",
    "srs = []\n",
    "file_names= []\n",
    "call_types = []\n",
    "names = []\n",
    "\n",
    "\n",
    "data_dir = \"C:/Users/Jayde/Desktop/library/zebra_finch/data/AdultVocalizations/\"\n",
    "for file_name in os.listdir(data_dir):\n",
    "    recording, sr = librosa.load(f'{data_dir}{file_name}', sr = None)\n",
    "    #print(file)\n",
    "    try:\n",
    "        name, file= file_name.split(\"_\")\n",
    "        date, call_type, rendition= file.split(\"-\")\n",
    "        call_type = call_type[:2]\n",
    "        #print(name, date, call_type)\n",
    "        recs.append(recording)\n",
    "        names.append(name)\n",
    "        file_names.append(file_name)\n",
    "        call_types.append(call_type)\n",
    "        srs.append(sr)\n",
    "    except:\n",
    "        print(f\"skipped {file}\")\n",
    "        continue\n",
    "\n",
    "print(f\"processed {len(recs)} out of {len(os.listdir(data_dir))}\")"
   ]
  },
  {
   "cell_type": "code",
   "execution_count": 19,
   "metadata": {},
   "outputs": [],
   "source": [
    "df = pd.DataFrame()\n",
    "df[\"file_name\"] = file_names\n",
    "df[\"name\"] = names\n",
    "df[\"call_type\"]= call_types\n",
    "#df[\"sr\"] = srs\n",
    "df[\"rec\"] = recs\n",
    "durations = [x.shape[0] / 44100 for x in recs]\n",
    "df[\"duration\"] = durations\n"
   ]
  },
  {
   "cell_type": "code",
   "execution_count": 20,
   "metadata": {},
   "outputs": [
    {
     "data": {
      "text/html": [
       "<div>\n",
       "<style scoped>\n",
       "    .dataframe tbody tr th:only-of-type {\n",
       "        vertical-align: middle;\n",
       "    }\n",
       "\n",
       "    .dataframe tbody tr th {\n",
       "        vertical-align: top;\n",
       "    }\n",
       "\n",
       "    .dataframe thead th {\n",
       "        text-align: right;\n",
       "    }\n",
       "</style>\n",
       "<table border=\"1\" class=\"dataframe\">\n",
       "  <thead>\n",
       "    <tr style=\"text-align: right;\">\n",
       "      <th></th>\n",
       "      <th>file_name</th>\n",
       "      <th>name</th>\n",
       "      <th>call_type</th>\n",
       "      <th>rec</th>\n",
       "      <th>duration</th>\n",
       "    </tr>\n",
       "  </thead>\n",
       "  <tbody>\n",
       "    <tr>\n",
       "      <th>0</th>\n",
       "      <td>BlaBla0506_110302-AggC-04.wav</td>\n",
       "      <td>BlaBla0506</td>\n",
       "      <td>Ag</td>\n",
       "      <td>[-1.5258789e-05, -0.0009918213, 3.0517578e-05,...</td>\n",
       "      <td>0.308118</td>\n",
       "    </tr>\n",
       "    <tr>\n",
       "      <th>1</th>\n",
       "      <td>BlaBla0506_110302-AggC-05.wav</td>\n",
       "      <td>BlaBla0506</td>\n",
       "      <td>Ag</td>\n",
       "      <td>[0.0001373291, 0.00021362305, 0.00062561035, 0...</td>\n",
       "      <td>0.599184</td>\n",
       "    </tr>\n",
       "    <tr>\n",
       "      <th>2</th>\n",
       "      <td>BlaBla0506_110302-DC-01.wav</td>\n",
       "      <td>BlaBla0506</td>\n",
       "      <td>DC</td>\n",
       "      <td>[0.00015258789, 0.0002746582, -0.0005340576, -...</td>\n",
       "      <td>0.238594</td>\n",
       "    </tr>\n",
       "    <tr>\n",
       "      <th>3</th>\n",
       "      <td>BlaBla0506_110302-DC-02.wav</td>\n",
       "      <td>BlaBla0506</td>\n",
       "      <td>DC</td>\n",
       "      <td>[0.002105713, 0.0018157959, 0.0018157959, 0.00...</td>\n",
       "      <td>0.261111</td>\n",
       "    </tr>\n",
       "    <tr>\n",
       "      <th>4</th>\n",
       "      <td>BlaBla0506_110302-DC-05.wav</td>\n",
       "      <td>BlaBla0506</td>\n",
       "      <td>DC</td>\n",
       "      <td>[-4.5776367e-05, -0.00032043457, -0.0006408691...</td>\n",
       "      <td>0.253220</td>\n",
       "    </tr>\n",
       "  </tbody>\n",
       "</table>\n",
       "</div>"
      ],
      "text/plain": [
       "                       file_name        name call_type  \\\n",
       "0  BlaBla0506_110302-AggC-04.wav  BlaBla0506        Ag   \n",
       "1  BlaBla0506_110302-AggC-05.wav  BlaBla0506        Ag   \n",
       "2    BlaBla0506_110302-DC-01.wav  BlaBla0506        DC   \n",
       "3    BlaBla0506_110302-DC-02.wav  BlaBla0506        DC   \n",
       "4    BlaBla0506_110302-DC-05.wav  BlaBla0506        DC   \n",
       "\n",
       "                                                 rec  duration  \n",
       "0  [-1.5258789e-05, -0.0009918213, 3.0517578e-05,...  0.308118  \n",
       "1  [0.0001373291, 0.00021362305, 0.00062561035, 0...  0.599184  \n",
       "2  [0.00015258789, 0.0002746582, -0.0005340576, -...  0.238594  \n",
       "3  [0.002105713, 0.0018157959, 0.0018157959, 0.00...  0.261111  \n",
       "4  [-4.5776367e-05, -0.00032043457, -0.0006408691...  0.253220  "
      ]
     },
     "execution_count": 20,
     "metadata": {},
     "output_type": "execute_result"
    }
   ],
   "source": [
    "df.head()"
   ]
  },
  {
   "cell_type": "code",
   "execution_count": 21,
   "metadata": {},
   "outputs": [
    {
     "data": {
      "text/html": [
       "<div>\n",
       "<style scoped>\n",
       "    .dataframe tbody tr th:only-of-type {\n",
       "        vertical-align: middle;\n",
       "    }\n",
       "\n",
       "    .dataframe tbody tr th {\n",
       "        vertical-align: top;\n",
       "    }\n",
       "\n",
       "    .dataframe thead th {\n",
       "        text-align: right;\n",
       "    }\n",
       "</style>\n",
       "<table border=\"1\" class=\"dataframe\">\n",
       "  <thead>\n",
       "    <tr style=\"text-align: right;\">\n",
       "      <th></th>\n",
       "      <th>duration</th>\n",
       "    </tr>\n",
       "  </thead>\n",
       "  <tbody>\n",
       "    <tr>\n",
       "      <th>count</th>\n",
       "      <td>2969.000000</td>\n",
       "    </tr>\n",
       "    <tr>\n",
       "      <th>mean</th>\n",
       "      <td>0.338989</td>\n",
       "    </tr>\n",
       "    <tr>\n",
       "      <th>std</th>\n",
       "      <td>0.719706</td>\n",
       "    </tr>\n",
       "    <tr>\n",
       "      <th>min</th>\n",
       "      <td>0.032494</td>\n",
       "    </tr>\n",
       "    <tr>\n",
       "      <th>25%</th>\n",
       "      <td>0.085442</td>\n",
       "    </tr>\n",
       "    <tr>\n",
       "      <th>50%</th>\n",
       "      <td>0.127551</td>\n",
       "    </tr>\n",
       "    <tr>\n",
       "      <th>75%</th>\n",
       "      <td>0.246100</td>\n",
       "    </tr>\n",
       "    <tr>\n",
       "      <th>max</th>\n",
       "      <td>11.705079</td>\n",
       "    </tr>\n",
       "  </tbody>\n",
       "</table>\n",
       "</div>"
      ],
      "text/plain": [
       "          duration\n",
       "count  2969.000000\n",
       "mean      0.338989\n",
       "std       0.719706\n",
       "min       0.032494\n",
       "25%       0.085442\n",
       "50%       0.127551\n",
       "75%       0.246100\n",
       "max      11.705079"
      ]
     },
     "execution_count": 21,
     "metadata": {},
     "output_type": "execute_result"
    }
   ],
   "source": [
    "df.describe()"
   ]
  },
  {
   "cell_type": "code",
   "execution_count": 28,
   "metadata": {},
   "outputs": [
    {
     "name": "stdout",
     "output_type": "stream",
     "text": [
      " max dur:0.37151927437641724 for slice len 16384. 2542 recordings \n",
      " max dur:0.7430385487528345 for slice len 32768. 2699 recordings \n",
      " max dur:1.486077097505669 for slice len 65536. 2807 recordings \n"
     ]
    }
   ],
   "source": [
    "slice_lens = [16384, 32768, 65536]\n",
    "for slice_len in slice_lens:\n",
    "    dur = slice_len/44100\n",
    "    count = (df[\"duration\"]<= dur).sum()\n",
    "    print(f\" max dur:{dur} for slice len {slice_len}. {count} recordings \")"
   ]
  },
  {
   "cell_type": "code",
   "execution_count": 41,
   "metadata": {},
   "outputs": [],
   "source": [
    "df= df[df[\"duration\"] <= 16384/44100]"
   ]
  },
  {
   "cell_type": "code",
   "execution_count": 42,
   "metadata": {},
   "outputs": [
    {
     "data": {
      "text/plain": [
       "['Te', 'DC', 'Ne', 'Th', 'Tu', 'Ag', 'Wh', 'LT']"
      ]
     },
     "execution_count": 42,
     "metadata": {},
     "output_type": "execute_result"
    }
   ],
   "source": [
    "call_type_counts = df[\"call_type\"].value_counts()\n",
    "top_8 = call_type_counts.head(8).index.tolist()\n",
    "top_8"
   ]
  },
  {
   "cell_type": "code",
   "execution_count": 43,
   "metadata": {},
   "outputs": [
    {
     "data": {
      "text/plain": [
       "Te    613\n",
       "DC    597\n",
       "Ne    468\n",
       "Th    301\n",
       "Tu    240\n",
       "Ag    164\n",
       "Wh    131\n",
       "LT     16\n",
       "Name: call_type, dtype: int64"
      ]
     },
     "execution_count": 43,
     "metadata": {},
     "output_type": "execute_result"
    }
   ],
   "source": [
    "df_top = df[df[\"call_type\"].isin(top_8)]\n",
    "df_top[\"call_type\"].value_counts()"
   ]
  },
  {
   "cell_type": "code",
   "execution_count": 44,
   "metadata": {},
   "outputs": [
    {
     "name": "stdout",
     "output_type": "stream",
     "text": [
      " max dur:0.37151927437641724 for slice len 16384. 2530 recordings -> train size 2496\n",
      " max dur:0.7430385487528345 for slice len 32768. 2530 recordings -> train size 2496\n",
      " max dur:1.486077097505669 for slice len 65536. 2530 recordings -> train size 2496\n"
     ]
    }
   ],
   "source": [
    "slice_lens = [16384, 32768, 65536]\n",
    "for slice_len in slice_lens:\n",
    "    dur = slice_len/44100\n",
    "    count = (df_top[\"duration\"]<= dur).sum()\n",
    "    train_size = (count//64) *64\n",
    "    print(f\" max dur:{dur} for slice len {slice_len}. {count} recordings -> train size {train_size}\")"
   ]
  },
  {
   "cell_type": "code",
   "execution_count": 39,
   "metadata": {},
   "outputs": [],
   "source": []
  },
  {
   "cell_type": "code",
   "execution_count": 45,
   "metadata": {},
   "outputs": [
    {
     "data": {
      "text/plain": [
       "Te    613\n",
       "DC    597\n",
       "Ne    468\n",
       "Th    301\n",
       "Tu    240\n",
       "Ag    164\n",
       "Wh    131\n",
       "LT     16\n",
       "Name: call_type, dtype: int64"
      ]
     },
     "execution_count": 45,
     "metadata": {},
     "output_type": "execute_result"
    }
   ],
   "source": [
    "df_top[\"call_type\"].value_counts()"
   ]
  },
  {
   "cell_type": "code",
   "execution_count": null,
   "metadata": {},
   "outputs": [],
   "source": []
  }
 ],
 "metadata": {
  "kernelspec": {
   "display_name": "base",
   "language": "python",
   "name": "python3"
  },
  "language_info": {
   "codemirror_mode": {
    "name": "ipython",
    "version": 3
   },
   "file_extension": ".py",
   "mimetype": "text/x-python",
   "name": "python",
   "nbconvert_exporter": "python",
   "pygments_lexer": "ipython3",
   "version": "3.8.8"
  }
 },
 "nbformat": 4,
 "nbformat_minor": 2
}
