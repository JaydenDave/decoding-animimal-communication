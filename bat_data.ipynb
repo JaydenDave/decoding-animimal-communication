{
 "cells": [
  {
   "cell_type": "code",
   "execution_count": 3,
   "metadata": {},
   "outputs": [],
   "source": [
    "import librosa as lb\n",
    "import os\n",
    "import matplotlib.pyplot as plt\n",
    "import pandas as pd\n",
    "from tqdm import tqdm"
   ]
  },
  {
   "cell_type": "code",
   "execution_count": 5,
   "metadata": {},
   "outputs": [
    {
     "name": "stderr",
     "output_type": "stream",
     "text": [
      "100%|██████████| 10000/10000 [04:07<00:00, 40.46it/s]\n"
     ]
    }
   ],
   "source": [
    "data_dir = \"C:/Users/Jayde/Desktop/library/egyptian_fruit_bat/egyptian_fruit_bats/\"\n",
    "annotations = pd.read_csv(f\"{data_dir}better_annotations.csv\")\n",
    "\n",
    "file_names=[]\n",
    "contexts=[]\n",
    "recs=[]\n",
    "emitters=[]\n",
    "\n",
    "for file in tqdm(os.listdir(f\"{data_dir}audio/\")):\n",
    "    file_id = file.split(\".\")[0]\n",
    "    recording, sr = lb.load(f'{data_dir}audio/{file}')\n",
    "    file_names.append(file_id)\n",
    "    recs.append(recording)\n"
   ]
  },
  {
   "cell_type": "code",
   "execution_count": 8,
   "metadata": {},
   "outputs": [
    {
     "name": "stdout",
     "output_type": "stream",
     "text": [
      "(10000, 2)\n",
      "(10000, 14)\n"
     ]
    }
   ],
   "source": [
    "df= pd.DataFrame({\"id\":file_names, \"audio\":recs})\n",
    "print(df.shape)\n",
    "df = df.astype({\"id\":\"int64\"})\n",
    "df = pd.merge(df,annotations, on=[\"id\"])\n",
    "print(df.shape)\n",
    "df.drop(columns =[\"FileID\",\"File name\", \"File folder\"],inplace =True)"
   ]
  },
  {
   "cell_type": "code",
   "execution_count": 13,
   "metadata": {},
   "outputs": [],
   "source": [
    "df[\"n_samples\"]= df[\"audio\"].apply(lambda x: len(x))"
   ]
  },
  {
   "cell_type": "code",
   "execution_count": 14,
   "metadata": {},
   "outputs": [
    {
     "data": {
      "text/html": [
       "<div>\n",
       "<style scoped>\n",
       "    .dataframe tbody tr th:only-of-type {\n",
       "        vertical-align: middle;\n",
       "    }\n",
       "\n",
       "    .dataframe tbody tr th {\n",
       "        vertical-align: top;\n",
       "    }\n",
       "\n",
       "    .dataframe thead th {\n",
       "        text-align: right;\n",
       "    }\n",
       "</style>\n",
       "<table border=\"1\" class=\"dataframe\">\n",
       "  <thead>\n",
       "    <tr style=\"text-align: right;\">\n",
       "      <th></th>\n",
       "      <th>id</th>\n",
       "      <th>audio</th>\n",
       "      <th>Emitter</th>\n",
       "      <th>Addressee</th>\n",
       "      <th>Context</th>\n",
       "      <th>Emitter pre-vocalization action</th>\n",
       "      <th>Addressee pre-vocalization action</th>\n",
       "      <th>Emitter post-vocalization action</th>\n",
       "      <th>Addressee post-vocalization action</th>\n",
       "      <th>Start sample</th>\n",
       "      <th>End sample</th>\n",
       "      <th>n_samples</th>\n",
       "    </tr>\n",
       "  </thead>\n",
       "  <tbody>\n",
       "    <tr>\n",
       "      <th>0</th>\n",
       "      <td>10056</td>\n",
       "      <td>[6.518338e-05, -3.4779052e-05, -7.602728e-05, ...</td>\n",
       "      <td>111</td>\n",
       "      <td>0</td>\n",
       "      <td>6</td>\n",
       "      <td>0</td>\n",
       "      <td>0</td>\n",
       "      <td>0</td>\n",
       "      <td>0</td>\n",
       "      <td>1</td>\n",
       "      <td>410448</td>\n",
       "      <td>36202</td>\n",
       "    </tr>\n",
       "    <tr>\n",
       "      <th>1</th>\n",
       "      <td>10083</td>\n",
       "      <td>[2.4973762e-05, 0.00013002774, 0.00024965845, ...</td>\n",
       "      <td>111</td>\n",
       "      <td>0</td>\n",
       "      <td>6</td>\n",
       "      <td>0</td>\n",
       "      <td>0</td>\n",
       "      <td>0</td>\n",
       "      <td>0</td>\n",
       "      <td>1</td>\n",
       "      <td>328528</td>\n",
       "      <td>28977</td>\n",
       "    </tr>\n",
       "    <tr>\n",
       "      <th>2</th>\n",
       "      <td>10253</td>\n",
       "      <td>[-3.618278e-05, -7.892636e-05, 8.91091e-05, -3...</td>\n",
       "      <td>111</td>\n",
       "      <td>0</td>\n",
       "      <td>6</td>\n",
       "      <td>0</td>\n",
       "      <td>0</td>\n",
       "      <td>0</td>\n",
       "      <td>0</td>\n",
       "      <td>1</td>\n",
       "      <td>394064</td>\n",
       "      <td>34757</td>\n",
       "    </tr>\n",
       "    <tr>\n",
       "      <th>3</th>\n",
       "      <td>10360</td>\n",
       "      <td>[3.3810746e-05, 0.00013919153, 7.289068e-05, 2...</td>\n",
       "      <td>111</td>\n",
       "      <td>0</td>\n",
       "      <td>6</td>\n",
       "      <td>0</td>\n",
       "      <td>0</td>\n",
       "      <td>0</td>\n",
       "      <td>0</td>\n",
       "      <td>1</td>\n",
       "      <td>598864</td>\n",
       "      <td>52820</td>\n",
       "    </tr>\n",
       "    <tr>\n",
       "      <th>4</th>\n",
       "      <td>10396</td>\n",
       "      <td>[9.140926e-05, -6.3318745e-05, 4.797955e-05, -...</td>\n",
       "      <td>111</td>\n",
       "      <td>0</td>\n",
       "      <td>6</td>\n",
       "      <td>2</td>\n",
       "      <td>0</td>\n",
       "      <td>4</td>\n",
       "      <td>0</td>\n",
       "      <td>375343</td>\n",
       "      <td>729936</td>\n",
       "      <td>31276</td>\n",
       "    </tr>\n",
       "  </tbody>\n",
       "</table>\n",
       "</div>"
      ],
      "text/plain": [
       "      id                                              audio  Emitter  \\\n",
       "0  10056  [6.518338e-05, -3.4779052e-05, -7.602728e-05, ...      111   \n",
       "1  10083  [2.4973762e-05, 0.00013002774, 0.00024965845, ...      111   \n",
       "2  10253  [-3.618278e-05, -7.892636e-05, 8.91091e-05, -3...      111   \n",
       "3  10360  [3.3810746e-05, 0.00013919153, 7.289068e-05, 2...      111   \n",
       "4  10396  [9.140926e-05, -6.3318745e-05, 4.797955e-05, -...      111   \n",
       "\n",
       "   Addressee  Context  Emitter pre-vocalization action  \\\n",
       "0          0        6                                0   \n",
       "1          0        6                                0   \n",
       "2          0        6                                0   \n",
       "3          0        6                                0   \n",
       "4          0        6                                2   \n",
       "\n",
       "   Addressee pre-vocalization action  Emitter post-vocalization action  \\\n",
       "0                                  0                                 0   \n",
       "1                                  0                                 0   \n",
       "2                                  0                                 0   \n",
       "3                                  0                                 0   \n",
       "4                                  0                                 4   \n",
       "\n",
       "   Addressee post-vocalization action  Start sample  End sample  n_samples  \n",
       "0                                   0             1      410448      36202  \n",
       "1                                   0             1      328528      28977  \n",
       "2                                   0             1      394064      34757  \n",
       "3                                   0             1      598864      52820  \n",
       "4                                   0        375343      729936      31276  "
      ]
     },
     "execution_count": 14,
     "metadata": {},
     "output_type": "execute_result"
    }
   ],
   "source": [
    "df.head()"
   ]
  },
  {
   "cell_type": "code",
   "execution_count": 17,
   "metadata": {},
   "outputs": [
    {
     "data": {
      "text/plain": [
       "12    4897\n",
       "11    2759\n",
       "6      723\n",
       "2      419\n",
       "3      370\n",
       "9      333\n",
       "10     177\n",
       "4      137\n",
       "7       68\n",
       "5       60\n",
       "0       41\n",
       "1       16\n",
       "Name: Context, dtype: int64"
      ]
     },
     "execution_count": 17,
     "metadata": {},
     "output_type": "execute_result"
    }
   ],
   "source": [
    "df[\"Context\"].value_counts()"
   ]
  },
  {
   "cell_type": "code",
   "execution_count": null,
   "metadata": {},
   "outputs": [],
   "source": []
  }
 ],
 "metadata": {
  "kernelspec": {
   "display_name": "base",
   "language": "python",
   "name": "python3"
  },
  "language_info": {
   "codemirror_mode": {
    "name": "ipython",
    "version": 3
   },
   "file_extension": ".py",
   "mimetype": "text/x-python",
   "name": "python",
   "nbconvert_exporter": "python",
   "pygments_lexer": "ipython3",
   "version": "3.8.8"
  }
 },
 "nbformat": 4,
 "nbformat_minor": 2
}
