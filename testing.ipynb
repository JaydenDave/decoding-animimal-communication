{
 "cells": [
  {
   "cell_type": "code",
   "execution_count": 8,
   "metadata": {},
   "outputs": [],
   "source": [
    "import tensorflow as tf\n",
    "import numpy as np\n",
    "import matplotlib.pyplot as plt\n",
    "import os\n",
    "from tensorflow.keras import (\n",
    "    layers,\n",
    "    models,\n",
    "    callbacks,\n",
    "    losses,\n",
    "    utils,\n",
    "    metrics,\n",
    "    optimizers,\n",
    "    datasets,\n",
    ")\n",
    "import pickle\n",
    "import tensorflow.keras.backend as K\n",
    "from winfoGAN.model import GAN\n",
    "from classifier.classifier import CLASSIFICATION_MODEL\n",
    "import librosa as lb\n",
    "from IPython.lib.display import Audio\n",
    "import IPython\n",
    "import pandas as pd\n",
    "import json\n",
    "\n",
    "import scipy.signal\n",
    "from scipy.fft import fft\n",
    "from scipy.signal import spectrogram"
   ]
  },
  {
   "cell_type": "code",
   "execution_count": 9,
   "metadata": {},
   "outputs": [],
   "source": [
    "def create_inputs(specs, num, bit_value= 1, baseline_dose = 0, random = False):\n",
    "    latent_dim = specs[\"Latent Dim\"]\n",
    "    n_cat = specs[\"N Categories\"]\n",
    "    bits = range(n_cat)\n",
    "    z_dim = latent_dim-n_cat\n",
    "\n",
    "    if random:\n",
    "        #print(\"Random c\")\n",
    "        z= tf.random.normal(shape=(num, z_dim))\n",
    "        c = tf.random.normal(shape=(num, n_cat))\n",
    "        #thresholding values to 0 and 1\n",
    "        c = tf.cast(c < 0, dtype=tf.float32)\n",
    "        inputs = [tf.concat([z,c], axis=1)]\n",
    "\n",
    "    else:\n",
    "        inputs = []\n",
    "        for bit in bits:\n",
    "            z= np.random.normal(size=(num, latent_dim))\n",
    "            z[:,z_dim:]= baseline_dose\n",
    "            z[:,z_dim+bit]=bit_value\n",
    "            z= tf.convert_to_tensor(z, dtype=tf.float32)\n",
    "            inputs.append(z)\n",
    "\n",
    "\n",
    "    return inputs"
   ]
  },
  {
   "cell_type": "code",
   "execution_count": 5,
   "metadata": {},
   "outputs": [],
   "source": [
    "gan_directory =\"C:/Users/Jayde/Desktop/wavegan/zf10\"\n",
    "spec_path = f\"{gan_directory}/model_specifications.json\"\n",
    "with open(spec_path, 'r') as f:\n",
    "  specs = json.load(f)\n",
    "\n",
    "classifier_directory =\"C:/Users/Jayde/Desktop/classifier_2601.1554/classifier_2601.1554/\"\n",
    "spec_path = f\"{classifier_directory}/model_specifications.json\"\n",
    "with open(spec_path, 'r') as f:\n",
    "  classifier_specs = json.load(f)"
   ]
  },
  {
   "cell_type": "code",
   "execution_count": 4,
   "metadata": {},
   "outputs": [],
   "source": [
    "gan = GAN(\n",
    "    latent_dim = specs[\"Latent Dim\"],\n",
    "    discriminator_steps= specs[\"Discriminator Steps\"],\n",
    "    gp_weight= specs[\"GP Weight\"],\n",
    "    n_categories= specs[\"N Categories\"],\n",
    "    slice_len=16384,\n",
    ")\n",
    "\n",
    "classifier = CLASSIFICATION_MODEL(\n",
    "   n_categories = specs[\"N Categories\"],\n",
    "   slice_len = specs[\"Slice Length\"]\n",
    ")\n",
    "\n",
    "classifier = classifier.classifier\n",
    "generator = gan.generator"
   ]
  },
  {
   "cell_type": "code",
   "execution_count": 10,
   "metadata": {},
   "outputs": [
    {
     "data": {
      "text/plain": [
       "<tensorflow.python.checkpoint.checkpoint.CheckpointLoadStatus at 0x1e8a3926bb0>"
      ]
     },
     "execution_count": 10,
     "metadata": {},
     "output_type": "execute_result"
    }
   ],
   "source": [
    "classifier.load_weights(f\"{classifier_directory}/classifier{25}\")\n",
    "generator.load_weights(f\"{gan_directory}/generator\")"
   ]
  },
  {
   "cell_type": "code",
   "execution_count": 22,
   "metadata": {},
   "outputs": [
    {
     "name": "stdout",
     "output_type": "stream",
     "text": [
      "4/4 [==============================] - 6s 1s/step\n"
     ]
    }
   ],
   "source": [
    "inputs = create_inputs(specs,100,bit_value= 3, random =True)[0]\n",
    "generated_audio = generator.predict(inputs) \n",
    "audio= np.squeeze(generated_audio)"
   ]
  },
  {
   "cell_type": "code",
   "execution_count": 23,
   "metadata": {},
   "outputs": [
    {
     "name": "stdout",
     "output_type": "stream",
     "text": [
      "4/4 [==============================] - 3s 629ms/step\n"
     ]
    }
   ],
   "source": [
    "pred_labels = np.argmax(classifier.predict(audio), axis=1)"
   ]
  },
  {
   "cell_type": "code",
   "execution_count": 26,
   "metadata": {},
   "outputs": [
    {
     "data": {
      "text/plain": [
       "Text(0, 0.5, 'Number of Occurences')"
      ]
     },
     "execution_count": 26,
     "metadata": {},
     "output_type": "execute_result"
    },
    {
     "data": {
      "image/png": "[encoded data removed]",
      "text/plain": [
       "<Figure size 640x480 with 1 Axes>"
      ]
     },
     "metadata": {},
     "output_type": "display_data"
    }
   ],
   "source": [
    "from collections import Counter\n",
    "count =Counter(pred_labels)\n",
    "plt.bar(count.keys(),count.values())\n",
    "plt.xlabel(\"Class\")\n",
    "plt.ylabel(\"Number of Occurences\")"
   ]
  },
  {
   "cell_type": "code",
   "execution_count": null,
   "metadata": {},
   "outputs": [],
   "source": []
  }
 ],
 "metadata": {
  "kernelspec": {
   "display_name": "base",
   "language": "python",
   "name": "python3"
  },
  "language_info": {
   "codemirror_mode": {
    "name": "ipython",
    "version": 3
   },
   "file_extension": ".py",
   "mimetype": "text/x-python",
   "name": "python",
   "nbconvert_exporter": "python",
   "pygments_lexer": "ipython3",
   "version": "3.8.8"
  }
 },
 "nbformat": 4,
 "nbformat_minor": 2
}
