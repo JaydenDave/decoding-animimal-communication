{
 "cells": [
  {
   "cell_type": "code",
   "execution_count": 1,
   "metadata": {},
   "outputs": [],
   "source": [
    "import tensorflow as tf\n",
    "import numpy as np\n",
    "import matplotlib.pyplot as plt\n",
    "import os\n",
    "from tensorflow.keras import (\n",
    "    layers,\n",
    "    models,\n",
    "    callbacks,\n",
    "    losses,\n",
    "    utils,\n",
    "    metrics,\n",
    "    optimizers,\n",
    "    datasets,\n",
    ")\n",
    "import pickle\n",
    "import tensorflow.keras.backend as K\n",
    "from winfoGAN.model import GAN\n",
    "from classifier.classifier import CLASSIFICATION_MODEL\n",
    "import librosa as lb\n",
    "from IPython.lib.display import Audio\n",
    "import IPython\n",
    "import pandas as pd\n",
    "import json\n",
    "\n",
    "import scipy.signal\n",
    "from scipy.fft import fft\n",
    "from scipy.signal import spectrogram\n",
    "from collections import Counter"
   ]
  },
  {
   "cell_type": "code",
   "execution_count": 2,
   "metadata": {},
   "outputs": [],
   "source": [
    "def create_inputs(specs, num, bit_value= 1, baseline_dose = 0, random = False):\n",
    "    latent_dim = specs[\"Latent Dim\"]\n",
    "    n_cat = specs[\"N Categories\"]\n",
    "    bits = range(n_cat)\n",
    "    z_dim = latent_dim-n_cat\n",
    "\n",
    "    if random:\n",
    "        #print(\"Random c\")\n",
    "        z= tf.random.normal(shape=(num, z_dim))\n",
    "        c = tf.random.normal(shape=(num, n_cat))\n",
    "        #thresholding values to 0 and 1\n",
    "        c = tf.cast(c < 0, dtype=tf.float32)\n",
    "        inputs = [tf.concat([z,c], axis=1)]\n",
    "\n",
    "    else:\n",
    "        inputs = []\n",
    "        for bit in bits:\n",
    "            z= np.random.normal(size=(num, latent_dim))\n",
    "            z[:,z_dim:]= baseline_dose\n",
    "            z[:,z_dim+bit]=bit_value\n",
    "            z= tf.convert_to_tensor(z, dtype=tf.float32)\n",
    "            inputs.append(z)\n",
    "\n",
    "\n",
    "    return inputs"
   ]
  },
  {
   "cell_type": "code",
   "execution_count": 6,
   "metadata": {},
   "outputs": [],
   "source": [
    "gan_directory =\"C:/Users/Jayde/Desktop/wavegan/m5\"\n",
    "spec_path = f\"{gan_directory}/model_specifications.json\"\n",
    "with open(spec_path, 'r') as f:\n",
    "  specs = json.load(f)\n",
    "\n",
    "classifier_directory =\"C:/Users/Jayde/Desktop/wavegan/m_cls1\"\n",
    "spec_path = f\"{classifier_directory}/model_specifications.json\"\n",
    "with open(spec_path, 'r') as f:\n",
    "  classifier_specs = json.load(f)"
   ]
  },
  {
   "cell_type": "code",
   "execution_count": 7,
   "metadata": {},
   "outputs": [],
   "source": [
    "gan = GAN(\n",
    "    latent_dim = specs[\"Latent Dim\"],\n",
    "    discriminator_steps= specs[\"Discriminator Steps\"],\n",
    "    gp_weight= specs[\"GP Weight\"],\n",
    "    n_categories= specs[\"N Categories\"],\n",
    "    slice_len=16384,\n",
    ")\n",
    "\n",
    "classifier = CLASSIFICATION_MODEL(\n",
    "   n_categories = classifier_specs[\"N Categories\"],\n",
    "   slice_len = classifier_specs[\"Slice Length\"]\n",
    ")\n",
    "\n",
    "classifier = classifier.classifier\n",
    "generator = gan.generator"
   ]
  },
  {
   "cell_type": "code",
   "execution_count": 8,
   "metadata": {},
   "outputs": [
    {
     "data": {
      "text/plain": [
       "<tensorflow.python.checkpoint.checkpoint.CheckpointLoadStatus at 0x1983cc6ba60>"
      ]
     },
     "execution_count": 8,
     "metadata": {},
     "output_type": "execute_result"
    }
   ],
   "source": [
    "classifier.load_weights(f\"{classifier_directory}/classifier10\")\n",
    "generator.load_weights(f\"{gan_directory}/generator600\")"
   ]
  },
  {
   "cell_type": "code",
   "execution_count": 11,
   "metadata": {},
   "outputs": [
    {
     "name": "stdout",
     "output_type": "stream",
     "text": [
      "22/22 [==============================] - 43s 2s/step\n",
      "22/22 [==============================] - 20s 931ms/step\n",
      "22/22 [==============================] - 95s 4s/step\n",
      "22/22 [==============================] - 43s 2s/step\n",
      "22/22 [==============================] - 91s 4s/step\n",
      "22/22 [==============================] - 45s 2s/step\n"
     ]
    },
    {
     "data": {
      "image/png": "[encoded data removed]",
      "text/plain": [
       "<Figure size 640x480 with 1 Axes>"
      ]
     },
     "metadata": {},
     "output_type": "display_data"
    }
   ],
   "source": [
    "width=0.25\n",
    "multiplier=-1\n",
    "N=700\n",
    "\n",
    "for epoch in [\"2000\",\"4000\",\"6000\"]:\n",
    "    offset = width * multiplier\n",
    "    generator.load_weights(f\"{gan_directory}/generator{epoch}\")\n",
    "    epoch = \"5000\" if epoch ==\"\" else epoch\n",
    "    inputs = create_inputs(specs,N,bit_value= 1, random =True)[0]\n",
    "    generated_audio = generator.predict(inputs) \n",
    "    audio= np.squeeze(generated_audio)\n",
    "    pred_labels = np.argmax(classifier.predict(audio), axis=1)\n",
    "    count =Counter(pred_labels)\n",
    "    plt.bar(np.array(list(count.keys()),dtype= int)+offset,count.values(), label=f\"epoch {epoch}\",width=width)\n",
    "    multiplier +=1\n",
    "plt.axhline(N/4,linestyle=\"dashed\")\n",
    "plt.xlabel(\"Class\")\n",
    "plt.ylabel(\"Number of Occurences\")\n",
    "plt.legend()\n",
    "fig_dir = f\"{gan_directory}/class_occurences.png\"\n",
    "plt.savefig(fig_dir, dpi= 300, bbox_inches = \"tight\", transparent = True)\n",
    "plt.show()\n",
    "\n",
    "    "
   ]
  },
  {
   "cell_type": "code",
   "execution_count": 13,
   "metadata": {},
   "outputs": [
    {
     "data": {
      "text/plain": [
       "array([2, 3, 3, 0, 3, 0, 3, 3, 0, 0, 0, 2, 1, 3, 3, 2, 2, 3, 2, 0, 0, 1,\n",
       "       1, 0, 0, 2, 3, 1, 2, 0, 1, 1, 2, 0, 3, 3, 1, 1, 3, 3, 1, 0, 0, 3,\n",
       "       1, 2, 3, 0, 0, 3, 3, 2, 1, 0, 0, 0, 1, 2, 2, 1, 3, 3, 1, 0, 3, 2,\n",
       "       0, 1, 1, 0, 0, 1, 1, 0, 0, 0, 3, 3, 2, 0, 0, 2, 3, 2, 0, 0, 2, 2,\n",
       "       3, 2, 3, 3, 3, 3, 2, 3, 3, 3, 1, 1, 1, 3, 0, 2, 0, 2, 2, 1, 3, 0,\n",
       "       1, 2, 1, 2, 1, 2, 1, 2, 3, 3, 1, 1, 0, 0, 0, 3, 1, 1, 0, 0, 0, 0,\n",
       "       1, 2, 3, 1, 0, 1, 2, 3, 2, 0, 0, 2, 0, 1, 0, 3, 3, 1, 3, 3, 2, 3,\n",
       "       2, 2, 0, 0, 1, 2, 2, 2, 0, 2, 1, 3, 0, 2, 3, 2, 3, 0, 3, 1, 1, 0,\n",
       "       1, 1, 0, 2, 1, 2, 3, 2, 0, 3, 0, 2, 2, 1, 1, 2, 2, 0, 2, 2, 2, 0,\n",
       "       0, 0, 2, 2, 0, 1, 2, 1, 1, 3, 2, 1, 2, 1, 3, 1, 3, 1, 2, 2, 3, 2,\n",
       "       1, 0, 2, 3, 2, 2, 1, 3, 1, 2, 0, 3, 0, 0, 2, 0, 3, 3, 0, 2, 0, 0,\n",
       "       1, 0, 1, 0, 2, 3, 1, 0, 3, 3, 1, 0, 0, 1, 3, 2, 0, 1, 3, 3, 1, 0,\n",
       "       3, 0, 2, 0, 3, 0, 1, 1, 0, 2, 1, 2, 1, 1, 1, 3, 2, 3, 2, 0, 0, 1,\n",
       "       1, 2, 0, 2, 0, 2, 1, 0, 0, 2, 2, 1, 3, 0, 3, 0, 3, 0, 1, 2, 0, 2,\n",
       "       3, 1, 0, 1, 1, 1, 0, 3, 2, 2, 3, 2, 2, 0, 1, 2, 3, 0, 1, 1, 1, 2,\n",
       "       3, 2, 1, 1, 3, 1, 2, 2, 1, 0, 2, 0, 0, 1, 3, 0, 3, 1, 1, 2, 1, 2,\n",
       "       0, 0, 3, 1, 2, 2, 2, 1, 2, 0, 3, 0, 2, 1, 2, 2, 1, 2, 3, 2, 1, 2,\n",
       "       1, 1, 3, 2, 3, 0, 2, 0, 2, 1, 2, 3, 0, 3, 0, 3, 2, 2, 3, 3, 3, 1,\n",
       "       2, 2, 3, 1, 1, 0, 2, 1, 0, 3, 2, 0, 1, 2, 3, 2, 2, 0, 1, 2, 3, 3,\n",
       "       1, 1, 1, 3, 3, 3, 0, 2, 1, 2, 1, 1, 3, 0, 3, 3, 1, 1, 1, 2, 1, 2,\n",
       "       1, 0, 0, 3, 1, 3, 2, 0, 2, 3, 3, 0, 2, 1, 2, 1, 3, 2, 3, 0, 0, 1,\n",
       "       2, 2, 3, 3, 3, 3, 0, 1, 3, 3, 3, 1, 2, 1, 2, 2, 1, 0, 2, 2, 3, 1,\n",
       "       3, 0, 1, 3, 0, 0, 3, 0, 1, 2, 1, 0, 3, 1, 1, 1, 1, 1, 1, 3, 1, 1,\n",
       "       2, 0, 3, 2, 2, 2, 0, 3, 3, 1, 1, 0, 3, 0, 0, 1, 3, 0, 1, 2, 1, 0,\n",
       "       0, 1, 3, 0, 1, 1, 2, 1, 1, 0, 1, 3, 2, 1, 1, 3, 2, 0, 3, 2, 2, 2,\n",
       "       1, 2, 0, 2, 0, 1, 1, 3, 1, 2, 3, 3, 1, 3, 2, 2, 2, 3, 3, 1, 2, 0,\n",
       "       2, 2, 3, 1, 3, 1, 2, 0, 1, 1, 0, 0, 2, 0, 0, 2, 0, 2, 2, 0, 0, 2,\n",
       "       1, 2, 2, 1, 3, 0, 3, 0, 1, 2, 0, 0, 2, 2, 1, 2, 2, 1, 1, 2, 0, 0,\n",
       "       2, 1, 3, 1, 2, 2, 1, 3, 1, 2, 0, 2, 2, 3, 0, 1, 3, 0, 2, 2, 3, 3,\n",
       "       0, 1, 2, 0, 0, 1, 1, 2, 1, 0, 1, 1, 3, 2, 3, 0, 0, 0, 2, 0, 0, 2,\n",
       "       0, 0, 2, 0, 2, 0, 1, 1, 2, 0, 0, 3, 2, 0, 2, 0, 2, 0, 2, 0, 2, 1,\n",
       "       0, 0, 1, 2, 2, 0, 2, 2, 1, 2, 0, 2, 0, 1, 0, 2, 3, 1], dtype=int64)"
      ]
     },
     "execution_count": 13,
     "metadata": {},
     "output_type": "execute_result"
    }
   ],
   "source": [
    "pred_labels"
   ]
  },
  {
   "cell_type": "code",
   "execution_count": 14,
   "metadata": {},
   "outputs": [],
   "source": [
    "count =Counter(pred_labels)"
   ]
  },
  {
   "cell_type": "code",
   "execution_count": 15,
   "metadata": {},
   "outputs": [],
   "source": [
    "count\n",
    "from collections import defaultdict\n",
    "classifications = defaultdict(list)"
   ]
  },
  {
   "cell_type": "code",
   "execution_count": 17,
   "metadata": {},
   "outputs": [
    {
     "name": "stdout",
     "output_type": "stream",
     "text": [
      "0.2757142857142857\n",
      "0.21285714285714286\n",
      "0.2542857142857143\n",
      "0.2571428571428571\n"
     ]
    }
   ],
   "source": [
    "n=700\n",
    "\n",
    "for key, value in count.items():\n",
    "    frac= value/n\n",
    "    print(frac)\n",
    "    classifications[key].append(frac)"
   ]
  },
  {
   "cell_type": "code",
   "execution_count": 19,
   "metadata": {},
   "outputs": [
    {
     "data": {
      "text/plain": [
       "defaultdict(list,\n",
       "            {1: [0.27, 0.27], 3: [0.26, 0.26], 0: [0.3, 0.3], 2: [0.17, 0.17]})"
      ]
     },
     "execution_count": 19,
     "metadata": {},
     "output_type": "execute_result"
    }
   ],
   "source": [
    "classifications"
   ]
  },
  {
   "cell_type": "code",
   "execution_count": null,
   "metadata": {},
   "outputs": [],
   "source": []
  }
 ],
 "metadata": {
  "kernelspec": {
   "display_name": "base",
   "language": "python",
   "name": "python3"
  },
  "language_info": {
   "codemirror_mode": {
    "name": "ipython",
    "version": 3
   },
   "file_extension": ".py",
   "mimetype": "text/x-python",
   "name": "python",
   "nbconvert_exporter": "python",
   "pygments_lexer": "ipython3",
   "version": "3.8.8"
  }
 },
 "nbformat": 4,
 "nbformat_minor": 2
}
