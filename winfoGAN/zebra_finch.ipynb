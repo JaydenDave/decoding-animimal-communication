{
 "cells": [
  {
   "cell_type": "code",
   "execution_count": 7,
   "metadata": {},
   "outputs": [],
   "source": [
    "import librosa\n",
    "import pandas as pd\n",
    "import numpy as np\n",
    "from IPython.lib.display import Audio\n",
    "from matplotlib import pyplot as plt\n",
    "import multiprocessing\n",
    "import scipy.signal\n",
    "from scipy.fft import fft\n",
    "from scipy.signal import butter, lfilter\n",
    "import os\n",
    "from utils import *\n",
    "from preprocess import *\n",
    "from sklearn.model_selection import train_test_split"
   ]
  },
  {
   "cell_type": "code",
   "execution_count": 2,
   "metadata": {},
   "outputs": [],
   "source": [
    "data_dir = \"C:/Users/Jayde/Desktop/library/zebra_finch/data/\"\n",
    "anno = pd.read_csv(f'{data_dir}annotations.csv')\n",
    "\n",
    "audio = []\n",
    "srs= []\n",
    "\n",
    "#adding the audio data to the dataframe\n",
    "for _, row in anno.iterrows():\n",
    "    recording, sr = librosa.load(f'{data_dir}vocalizations/{row.fn}')\n",
    "    audio.append(recording)\n",
    "    srs.append(sr)\n",
    "    \n",
    "anno['audio'] = audio\n",
    "\n"
   ]
  },
  {
   "cell_type": "code",
   "execution_count": 3,
   "metadata": {},
   "outputs": [
    {
     "name": "stdout",
     "output_type": "stream",
     "text": [
      "processed 2969 out of 2969\n"
     ]
    }
   ],
   "source": [
    "recs = []\n",
    "srs = []\n",
    "file_names= []\n",
    "call_types = []\n",
    "names = []\n",
    "\n",
    "\n",
    "data_dir = \"C:/Users/Jayde/Desktop/library/zebra_finch/data/AdultVocalizations/\"\n",
    "for file_name in os.listdir(data_dir):\n",
    "    recording, sr = librosa.load(f'{data_dir}{file_name}', sr = None)\n",
    "    #print(file)\n",
    "    try:\n",
    "        name, file= file_name.split(\"_\")\n",
    "        date, call_type, rendition= file.split(\"-\")\n",
    "        call_type = call_type[:2]\n",
    "        #print(name, date, call_type)\n",
    "        recs.append(recording)\n",
    "        names.append(name)\n",
    "        file_names.append(file_name)\n",
    "        call_types.append(call_type)\n",
    "        srs.append(sr)\n",
    "    except:\n",
    "        print(f\"skipped {file}\")\n",
    "        continue\n",
    "\n",
    "print(f\"processed {len(recs)} out of {len(os.listdir(data_dir))}\")"
   ]
  },
  {
   "cell_type": "code",
   "execution_count": 3,
   "metadata": {},
   "outputs": [
    {
     "name": "stdout",
     "output_type": "stream",
     "text": [
      "obtained 2969 samples\n",
      "top 5 call types for duration <= 0.37151927437641724: ['Te', 'DC', 'Ne', 'Th', 'Tu']\n",
      "DC    240\n",
      "Ne    240\n",
      "Te    240\n",
      "Th    240\n",
      "Tu    240\n",
      "Name: call_type, dtype: int64\n",
      "reduced to 1200 training samlples\n"
     ]
    }
   ],
   "source": [
    "data_dir = \"C:/Users/Jayde/Desktop/library/zebra_finch/data/AdultVocalizations/\"\n",
    "recs = []\n",
    "#file_names= []\n",
    "call_types = []\n",
    "#names = []\n",
    "slice_len = 16384\n",
    "n_types = 5\n",
    "equal = True\n",
    "\n",
    "for file_name in os.listdir(data_dir):\n",
    "    recording, sr = lb.load(f'{data_dir}{file_name}', sr = None)\n",
    "    #print(file)\n",
    "    try:\n",
    "        name, file= file_name.split(\"_\")\n",
    "        date, call_type, rendition= file.split(\"-\")\n",
    "        call_type = call_type[:2]\n",
    "        #print(name, date, call_type)\n",
    "        recording /= np.max(np.abs(recording))\n",
    "        recs.append(recording)\n",
    "        #names.append(name)\n",
    "        #file_names.append(file_name)\n",
    "        call_types.append(call_type)\n",
    "    except:\n",
    "        print(f\"skipped {file}\")\n",
    "        continue\n",
    "df = pd.DataFrame()\n",
    "df[\"call_type\"]= call_types\n",
    "df[\"rec\"] = recs\n",
    "durations = [x.shape[0] / sr for x in recs]\n",
    "df[\"duration\"] = durations\n",
    "print(f\"obtained {len(os.listdir(data_dir))} samples\")\n",
    "dur = slice_len/sr\n",
    "df= df[df[\"duration\"] <= dur]\n",
    "\n",
    "call_type_counts = df[\"call_type\"].value_counts()\n",
    "top_n = call_type_counts.head(n_types).index.tolist()\n",
    "\n",
    "print(f\"top {n_types} call types for duration <= {dur}: {top_n}\")\n",
    "df_top = df[df[\"call_type\"].isin(top_n)]\n",
    "if equal:\n",
    "    min_count = min(call_type_counts.head(n_types).values.tolist())\n",
    "\n",
    "    def sample_from_group(group):\n",
    "        return group.sample(min_count, replace=True)\n",
    "    \n",
    "    # Apply the sampling function to each group\n",
    "    df_top = df_top.groupby('call_type', group_keys=False).apply(sample_from_group)\n",
    "\n",
    "    # Reset the index of the resulting DataFrame\n",
    "    df_top.reset_index(drop=True, inplace=True)\n",
    "    call_type_counts = df_top[\"call_type\"].value_counts()\n",
    "    print(call_type_counts)\n",
    "\n",
    "audio = [centre_and_pad(signal, slice_len) for signal in df_top[\"rec\"]]\n",
    "audio = [bandpass_filter(signal,250,12000, sr) for signal in audio]\n",
    "audio = np.array(audio)\n",
    "n_train_data = len(audio)\n",
    "print(f\"reduced to {n_train_data} training samlples\")\n",
    "labels = pd.get_dummies(df_top['call_type']).values"
   ]
  },
  {
   "cell_type": "code",
   "execution_count": 5,
   "metadata": {},
   "outputs": [
    {
     "data": {
      "text/plain": [
       "array([[1., 0., 0., 0., 0.],\n",
       "       [1., 0., 0., 0., 0.],\n",
       "       [1., 0., 0., 0., 0.],\n",
       "       ...,\n",
       "       [0., 0., 0., 0., 1.],\n",
       "       [0., 0., 0., 0., 1.],\n",
       "       [0., 0., 0., 0., 1.]], dtype=float32)"
      ]
     },
     "execution_count": 5,
     "metadata": {},
     "output_type": "execute_result"
    }
   ],
   "source": [
    "labels.astype('float32')"
   ]
  },
  {
   "cell_type": "code",
   "execution_count": 8,
   "metadata": {},
   "outputs": [],
   "source": [
    "X_train, X_val, y_train, y_val = train_test_split(audio, labels, test_size=0.2, random_state=7)"
   ]
  },
  {
   "cell_type": "code",
   "execution_count": 12,
   "metadata": {},
   "outputs": [
    {
     "data": {
      "text/plain": [
       "960"
      ]
     },
     "execution_count": 12,
     "metadata": {},
     "output_type": "execute_result"
    }
   ],
   "source": [
    "len(np.argmax(y_train, axis=1))"
   ]
  },
  {
   "cell_type": "code",
   "execution_count": 4,
   "metadata": {},
   "outputs": [],
   "source": [
    "df = pd.DataFrame()\n",
    "df[\"file_name\"] = file_names\n",
    "df[\"name\"] = names\n",
    "df[\"call_type\"]= call_types\n",
    "#df[\"sr\"] = srs\n",
    "df[\"rec\"] = recs\n",
    "durations = [x.shape[0] / 44100 for x in recs]\n",
    "df[\"duration\"] = durations\n"
   ]
  },
  {
   "cell_type": "code",
   "execution_count": 5,
   "metadata": {},
   "outputs": [
    {
     "data": {
      "text/html": [
       "<div>\n",
       "<style scoped>\n",
       "    .dataframe tbody tr th:only-of-type {\n",
       "        vertical-align: middle;\n",
       "    }\n",
       "\n",
       "    .dataframe tbody tr th {\n",
       "        vertical-align: top;\n",
       "    }\n",
       "\n",
       "    .dataframe thead th {\n",
       "        text-align: right;\n",
       "    }\n",
       "</style>\n",
       "<table border=\"1\" class=\"dataframe\">\n",
       "  <thead>\n",
       "    <tr style=\"text-align: right;\">\n",
       "      <th></th>\n",
       "      <th>file_name</th>\n",
       "      <th>name</th>\n",
       "      <th>call_type</th>\n",
       "      <th>rec</th>\n",
       "      <th>duration</th>\n",
       "    </tr>\n",
       "  </thead>\n",
       "  <tbody>\n",
       "    <tr>\n",
       "      <th>0</th>\n",
       "      <td>BlaBla0506_110302-AggC-04.wav</td>\n",
       "      <td>BlaBla0506</td>\n",
       "      <td>Ag</td>\n",
       "      <td>[-1.5258789e-05, -0.0009918213, 3.0517578e-05,...</td>\n",
       "      <td>0.308118</td>\n",
       "    </tr>\n",
       "    <tr>\n",
       "      <th>1</th>\n",
       "      <td>BlaBla0506_110302-AggC-05.wav</td>\n",
       "      <td>BlaBla0506</td>\n",
       "      <td>Ag</td>\n",
       "      <td>[0.0001373291, 0.00021362305, 0.00062561035, 0...</td>\n",
       "      <td>0.599184</td>\n",
       "    </tr>\n",
       "    <tr>\n",
       "      <th>2</th>\n",
       "      <td>BlaBla0506_110302-DC-01.wav</td>\n",
       "      <td>BlaBla0506</td>\n",
       "      <td>DC</td>\n",
       "      <td>[0.00015258789, 0.0002746582, -0.0005340576, -...</td>\n",
       "      <td>0.238594</td>\n",
       "    </tr>\n",
       "    <tr>\n",
       "      <th>3</th>\n",
       "      <td>BlaBla0506_110302-DC-02.wav</td>\n",
       "      <td>BlaBla0506</td>\n",
       "      <td>DC</td>\n",
       "      <td>[0.002105713, 0.0018157959, 0.0018157959, 0.00...</td>\n",
       "      <td>0.261111</td>\n",
       "    </tr>\n",
       "    <tr>\n",
       "      <th>4</th>\n",
       "      <td>BlaBla0506_110302-DC-05.wav</td>\n",
       "      <td>BlaBla0506</td>\n",
       "      <td>DC</td>\n",
       "      <td>[-4.5776367e-05, -0.00032043457, -0.0006408691...</td>\n",
       "      <td>0.253220</td>\n",
       "    </tr>\n",
       "  </tbody>\n",
       "</table>\n",
       "</div>"
      ],
      "text/plain": [
       "                       file_name        name call_type  \\\n",
       "0  BlaBla0506_110302-AggC-04.wav  BlaBla0506        Ag   \n",
       "1  BlaBla0506_110302-AggC-05.wav  BlaBla0506        Ag   \n",
       "2    BlaBla0506_110302-DC-01.wav  BlaBla0506        DC   \n",
       "3    BlaBla0506_110302-DC-02.wav  BlaBla0506        DC   \n",
       "4    BlaBla0506_110302-DC-05.wav  BlaBla0506        DC   \n",
       "\n",
       "                                                 rec  duration  \n",
       "0  [-1.5258789e-05, -0.0009918213, 3.0517578e-05,...  0.308118  \n",
       "1  [0.0001373291, 0.00021362305, 0.00062561035, 0...  0.599184  \n",
       "2  [0.00015258789, 0.0002746582, -0.0005340576, -...  0.238594  \n",
       "3  [0.002105713, 0.0018157959, 0.0018157959, 0.00...  0.261111  \n",
       "4  [-4.5776367e-05, -0.00032043457, -0.0006408691...  0.253220  "
      ]
     },
     "execution_count": 5,
     "metadata": {},
     "output_type": "execute_result"
    }
   ],
   "source": [
    "df.head()"
   ]
  },
  {
   "cell_type": "code",
   "execution_count": 6,
   "metadata": {},
   "outputs": [
    {
     "data": {
      "text/html": [
       "<div>\n",
       "<style scoped>\n",
       "    .dataframe tbody tr th:only-of-type {\n",
       "        vertical-align: middle;\n",
       "    }\n",
       "\n",
       "    .dataframe tbody tr th {\n",
       "        vertical-align: top;\n",
       "    }\n",
       "\n",
       "    .dataframe thead th {\n",
       "        text-align: right;\n",
       "    }\n",
       "</style>\n",
       "<table border=\"1\" class=\"dataframe\">\n",
       "  <thead>\n",
       "    <tr style=\"text-align: right;\">\n",
       "      <th></th>\n",
       "      <th>duration</th>\n",
       "    </tr>\n",
       "  </thead>\n",
       "  <tbody>\n",
       "    <tr>\n",
       "      <th>count</th>\n",
       "      <td>2969.000000</td>\n",
       "    </tr>\n",
       "    <tr>\n",
       "      <th>mean</th>\n",
       "      <td>0.338989</td>\n",
       "    </tr>\n",
       "    <tr>\n",
       "      <th>std</th>\n",
       "      <td>0.719706</td>\n",
       "    </tr>\n",
       "    <tr>\n",
       "      <th>min</th>\n",
       "      <td>0.032494</td>\n",
       "    </tr>\n",
       "    <tr>\n",
       "      <th>25%</th>\n",
       "      <td>0.085442</td>\n",
       "    </tr>\n",
       "    <tr>\n",
       "      <th>50%</th>\n",
       "      <td>0.127551</td>\n",
       "    </tr>\n",
       "    <tr>\n",
       "      <th>75%</th>\n",
       "      <td>0.246100</td>\n",
       "    </tr>\n",
       "    <tr>\n",
       "      <th>max</th>\n",
       "      <td>11.705079</td>\n",
       "    </tr>\n",
       "  </tbody>\n",
       "</table>\n",
       "</div>"
      ],
      "text/plain": [
       "          duration\n",
       "count  2969.000000\n",
       "mean      0.338989\n",
       "std       0.719706\n",
       "min       0.032494\n",
       "25%       0.085442\n",
       "50%       0.127551\n",
       "75%       0.246100\n",
       "max      11.705079"
      ]
     },
     "execution_count": 6,
     "metadata": {},
     "output_type": "execute_result"
    }
   ],
   "source": [
    "df.describe()"
   ]
  },
  {
   "cell_type": "code",
   "execution_count": 7,
   "metadata": {},
   "outputs": [
    {
     "name": "stdout",
     "output_type": "stream",
     "text": [
      " max dur:0.09287981859410431 for slice len 4096. 900 recordings \n",
      " max dur:0.37151927437641724 for slice len 16384. 2542 recordings \n",
      " max dur:0.7430385487528345 for slice len 32768. 2699 recordings \n",
      " max dur:1.486077097505669 for slice len 65536. 2807 recordings \n"
     ]
    }
   ],
   "source": [
    "slice_lens = [4096, 16384, 32768, 65536]\n",
    "for slice_len in slice_lens:\n",
    "    dur = slice_len/44100\n",
    "    count = (df[\"duration\"]<= dur).sum()\n",
    "    print(f\" max dur:{dur} for slice len {slice_len}. {count} recordings \")"
   ]
  },
  {
   "cell_type": "code",
   "execution_count": 8,
   "metadata": {},
   "outputs": [],
   "source": [
    "df= df[df[\"duration\"] <= 16384/44100]"
   ]
  },
  {
   "cell_type": "code",
   "execution_count": 8,
   "metadata": {},
   "outputs": [
    {
     "data": {
      "text/plain": [
       "['Te', 'DC', 'Ne', 'Th', 'Tu', 'Ag', 'Wh', 'LT']"
      ]
     },
     "execution_count": 8,
     "metadata": {},
     "output_type": "execute_result"
    }
   ],
   "source": [
    "call_type_counts = df[\"call_type\"].value_counts()\n",
    "top_8 = call_type_counts.head(8).index.tolist()\n",
    "top_8"
   ]
  },
  {
   "cell_type": "code",
   "execution_count": 9,
   "metadata": {},
   "outputs": [
    {
     "data": {
      "text/plain": [
       "Te    613\n",
       "DC    597\n",
       "Ne    468\n",
       "Th    301\n",
       "Tu    240\n",
       "Ag    164\n",
       "Wh    131\n",
       "LT     16\n",
       "Name: call_type, dtype: int64"
      ]
     },
     "execution_count": 9,
     "metadata": {},
     "output_type": "execute_result"
    }
   ],
   "source": [
    "df_top = df[df[\"call_type\"].isin(top_8)]\n",
    "df_top[\"call_type\"].value_counts()"
   ]
  },
  {
   "cell_type": "code",
   "execution_count": 10,
   "metadata": {},
   "outputs": [
    {
     "name": "stdout",
     "output_type": "stream",
     "text": [
      " max dur:0.37151927437641724 for slice len 16384. 2530 recordings -> train size 2496\n",
      " max dur:0.7430385487528345 for slice len 32768. 2530 recordings -> train size 2496\n",
      " max dur:1.486077097505669 for slice len 65536. 2530 recordings -> train size 2496\n"
     ]
    }
   ],
   "source": [
    "slice_lens = [16384, 32768, 65536]\n",
    "for slice_len in slice_lens:\n",
    "    dur = slice_len/44100\n",
    "    count = (df_top[\"duration\"]<= dur).sum()\n",
    "    train_size = (count//64) *64\n",
    "    print(f\" max dur:{dur} for slice len {slice_len}. {count} recordings -> train size {train_size}\")"
   ]
  },
  {
   "cell_type": "code",
   "execution_count": 11,
   "metadata": {},
   "outputs": [
    {
     "data": {
      "text/plain": [
       "Te    613\n",
       "DC    597\n",
       "Ne    468\n",
       "Th    301\n",
       "Tu    240\n",
       "Ag    164\n",
       "Wh    131\n",
       "LT     16\n",
       "Name: call_type, dtype: int64"
      ]
     },
     "execution_count": 11,
     "metadata": {},
     "output_type": "execute_result"
    }
   ],
   "source": [
    "df_top[\"call_type\"].value_counts()"
   ]
  },
  {
   "cell_type": "code",
   "execution_count": 12,
   "metadata": {},
   "outputs": [],
   "source": [
    "def bandpass_filter(data, low, high, sr, order=5):\n",
    "    nyquist = sr/2\n",
    "    low = low/nyquist\n",
    "    high = high/nyquist\n",
    "    b, a = butter(order, [low, high], btype='band')\n",
    "    filtered = lfilter(b, a, data)\n",
    "    return filtered\n"
   ]
  },
  {
   "cell_type": "code",
   "execution_count": null,
   "metadata": {},
   "outputs": [],
   "source": [
    "signal = df_top[\"rec\"][2]\n",
    "print(signal)\n",
    "sr = 44100\n",
    "create_plots(signal,sr)\n",
    "filtered = bandpass_filter(signal,250,12000,sr)\n",
    "create_plots(filtered,sr)\n",
    "centred = centre_and_pad(filtered)\n",
    "normalised = z_score_normalise(centred)\n",
    "print(normalised)\n",
    "create_plots(normalised, sr, amp_envelope=False)\n",
    "t, zcr = ZCR(filtered,frame_size = 128, hop_length= 64, sr= sr)\n",
    "plt.plot(t,zcr)\n",
    "plt.show()"
   ]
  },
  {
   "cell_type": "code",
   "execution_count": null,
   "metadata": {},
   "outputs": [
    {
     "data": {
      "text/html": [
       "\n",
       "                <audio  controls=\"controls\" >\n",
       "                    <source src=\"data:audio/wav;base64,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\" type=\"audio/wav\" />\n",
       "                    Your browser does not support the audio element.\n",
       "                </audio>\n",
       "              "
      ],
      "text/plain": [
       "<IPython.lib.display.Audio object>"
      ]
     },
     "metadata": {},
     "output_type": "display_data"
    },
    {
     "data": {
      "text/html": [
       "\n",
       "                <audio  controls=\"controls\" >\n",
       "                    <source src=\"data:audio/wav;base64,UklGRiSAAABXQVZFZm10IBAAAAABAAEARKwAAIhYAQACABAAZGF0YQCAAAAAAAAAAAAAAAAAAAAAAAAAAAAAAAAAAAAAAAAAAAAAAAAAAAAAAAAAAAAAAAAAAAAAAAAAAAAAAAAAAAAAAAAAAAAAAAAAAAAAAAAAAAAAAAAAAAAAAAAAAAAAAAAAAAAAAAAAAAAAAAAAAAAAAAAAAAAAAAAAAAAAAAAAAAAAAAAAAAAAAAAAAAAAAAAAAAAAAAAAAAAAAAAAAAAAAAAAAAAAAAAAAAAAAAAAAAAAAAAAAAAAAAAAAAAAAAAAAAAAAAAAAAAAAAAAAAAAAAAAAAAAAAAAAAAAAAAAAAAAAAAAAAAAAAAAAAAAAAAAAAAAAAAAAAAAAAAAAAAAAAAAAAAAAAAAAAAAAAAAAAAAAAAAAAAAAAAAAAAAAAAAAAAAAAAAAAAAAAAAAAAAAAAAAAAAAAAAAAAAAAAAAAAAAAAAAAAAAAAAAAAAAAAAAAAAAAAAAAAAAAAAAAAAAAAAAAAAAAAAAAAAAAAAAAAAAAAAAAAAAAAAAAAAAAAAAAAAAAAAAAAAAAAAAAAAAAAAAAAAAAAAAAAAAAAAAAAAAAAAAAAAAAAAAAAAAAAAAAAAAAAAAAAAAAAAAAAAAAAAAAAAAAAAAAAAAAAAAAAAAAAAAAAAAAAAAAAAAAAAAAAAAAAAAAAAAAAAAAAAAAAAAAAAAAAAAAAAAAAAAAAAAAAAAAAAAAAAAAAAAAAAAAAAAAAAAAAAAAAAAAAAAAAAAAAAAAAAAAAAAAAAAAAAAAAAAAAAAAAAAAAAAAAAAAAAAAAAAAAAAAAAAAAAAAAAAAAAAAAAAAAAAAAAAAAAAAAAAAAAAAAAAAAAAAAAAAAAAAAAAAAAAAAAAAAAAAAAAAAAAAAAAAAAAAAAAAAAAAAAAAAAAAAAAAAAAAAAAAAAAAAAAAAAAAAAAAAAAAAAAAAAAAAAAAAAAAAAAAAAAAAAAAAAAAAAAAAAAAAAAAAAAAAAAAAAAAAAAAAAAAAAAAAAAAAAAAAAAAAAAAAAAAAAAAAAAAAAAAAAAAAAAAAAAAAAAAAAAAAAAAAAAAAAAAAAAAAAAAAAAAAAAAAAAAAAAAAAAAAAAAAAAAAAAAAAAAAAAAAAAAAAAAAAAAAAAAAAAAAAAAAAAAAAAAAAAAAAAAAAAAAAAAAAAAAAAAAAAAAAAAAAAAAAAAAAAAAAAAAAAAAAAAAAAAAAAAAAAAAAAAAAAAAAAAAAAAAAAAAAAAAAAAAAAAAAAAAAAAAAAAAAAAAAAAAAAAAAAAAAAAAAAAAAAAAAAAAAAAAAAAAAAAAAAAAAAAAAAAAAAAAAAAAAAAAAAAAAAAAAAAAAAAAAAAAAAAAAAAAAAAAAAAAAAAAAAAAAAAAAAAAAAAAAAAAAAAAAAAAAAAAAAAAAAAAAAAAAAAAAAAAAAAAAAAAAAAAAAAAAAAAAAAAAAAAAAAAAAAAAAAAAAAAAAAAAAAAAAAAAAAAAAAAAAAAAAAAAAAAAAAAAAAAAAAAAAAAAAAAAAAAAAAAAAAAAAAAAAAAAAAAAAAAAAAAAAAAAAAAAAAAAAAAAAAAAAAAAAAAAAAAAAAAAAAAAAAAAAAAAAAAAAAAAAAAAAAAAAAAAAAAAAAAAAAAAAAAAAAAAAAAAAAAAAAAAAAAAAAAAAAAAAAAAAAAAAAAAAAAAAAAAAAAAAAAAAAAAAAAAAAAAAAAAAAAAAAAAAAAAAAAAAAAAAAAAAAAAAAAAAAAAAAAAAAAAAAAAAAAAAAAAAAAAAAAAAAAAAAAAAAAAAAAAAAAAAAAAAAAAAAAAAAAAAAAAAAAAAAAAAAAAAAAAAAAAAAAAAAAAAAAAAAAAAAAAAAAAAAAAAAAAAAAAAAAAAAAAAAAAAAAAAAAAAAAAAAAAAAAAAAAAAAAAAAAAAAAAAAAAAAAAAAAAAAAAAAAAAAAAAAAAAAAAAAAAAAAAAAAAAAAAAAAAAAAAAAAAAAAAAAAAAAAAAAAAAAAAAAAAAAAAAAAAAAAAAAAAAAAAAAAAAAAAAAAAAAAAAAAAAAAAAAAAAAAAAAAAAAAAAAAAAAAAAAAAAAAAAAAAAAAAAAAAAAAAAAAAAAAAAAAAAAAAAAAAAAAAAAAAAAAAAAAAAAAAAAAAAAAAAAAAAAAAAAAAAAAAAAAAAAAAAAAAAAAAAAAAAAAAAAAAAAAAAAAAAAAAAAAAAAAAAAAAAAAAAAAAAAAAAAAAAAAAAAAAAAAAAAAAAAAAAAAAAAAAAAAAAAAAAAAAAAAAAAAAAAAAAAAAAAAAAAAAAAAAAAAAAAAAAAAAAAAAAAAAAAAAAAAAAAAAAAAAAAAAAAAAAAAAAAAAAAAAAAAAAAAAAAAAAAAAAAAAAAAAAAAAAAAAAAAAAAAAAAAAAAAAAAAAAAAAAAAAAAAAAAAAAAAAAAAAAAAAAAAAAAAAAAAAAAAAAAAAAAAAAAAAAAAAAAAAAAAAAAAAAAAAAAAAAAAAAAAAAAAAAAAAAAAAAAAAAAAAAAAAAAAAAAAAAAAAAAAAAAAAAAAAAAAAAAAAAAAAAAAAAAAAAAAAAAAAAAAAAAAAAAAAAAAAAAAAAAAAAAAAAAAAAAAAAAAAAAAAAAAAAAAAAAAAAAAAAAAAAAAAAAAAAAAAAAAAAAAAAAAAAAAAAAAAAAAAAAAAAAAAAAAAAAAAAAAAAAAAAAAAAAAAAAAAAAAAAAAAAAAAAAAAAAAAAAAAAAAAAAAAAAAAAAAAAAAAAAAAAAAAAAAAAAAAAAAAAAAAAAAAAAAAAAAAAAAAAAAAAAAAAAAAAAAAAAAAAAAAAAAAAAAAAAAAAAAAAAAAAAAAAAAAAAAAAAAAAAAAAAAAAAAAAAAAAAAAAAAAAAAAAAAAAAAAAAAAAAAAAAAAAAAAAAAAAAAAAAAAAAAAAAAAAAAAAAAAAAAAAAAAAAAAAAAAAAAAAAAAAAAAAAAAAAAAAAAAAAAAAAAAAAAAAAAAAAAAAAAAAAAAAAAAAAAAAAAAAAAAAAAAAAAAAAAAAAAAAAAAAAAAAAAAAAAAAAAAAAAAAAAAAAAAAAAAAAAAAAAAAAAAAAAAAAAAAAAAAAAAAAAAAAAAAAAAAAAAAAAAAAAAAAAAAAAAAAAAAAAAAAAAAAAAAAAAAAAAAAAAAAAAAAAAAAAAAAAAAAAAAAAAAAAAAAAAAAAAAAAAAAAAAAAAAAAAAAAAAAAAAAAAAAAAAAAAAAAAAAAAAAAAAAAAAAAAAAAAAAAAAAAAAAAAAAAAAAAAAAAAAAAAAAAAAAAAAAAAAAAAAAAAAAAAAAAAAAAAAAAAAAAAAAAAAAAAAAAAAAAAAAAAAAAAAAAAAAAAAAAAAAAAAAAAAAAAAAAAAAAAAAAAAAAAAAAAAAAAAAAAAAAAAAAAAAAAAAAAAAAAAAAAAAAAAAAAAAAAAAAAAAAAAAAAAAAAAAAAAAAAAAAAAAAAAAAAAAAAAAAAAAAAAAAAAAAAAAAAAAAAAAAAAAAAAAAAAAAAAAAAAAAAAAAAAAAAAAAAAAAAAAAAAAAAAAAAAAAAAAAAAAAAAAAAAAAAAAAAAAAAAAAAAAAAAAAAAAAAAAAAAAAAAAAAAAAAAAAAAAAAAAAAAAAAAAAAAAAAAAAAAAAAAAAAAAAAAAAAAAAAAAAAAAAAAAAAAAAAAAAAAAAAAAAAAAAAAAAAAAAAAAAAAAAAAAAAAAAAAAAAAAAAAAAAAAAAAAAAAAAAAAAAAAAAAAAAAAAAAAAAAAAAAAAAAAAAAAAAAAAAAAAAAAAAAAAAAAAAAAAAAAAAAAAAAAAAAAAAAAAAAAAAAAAAAAAAAAAAAAAAAAAAAAAAAAAAAAAAAAAAAAAAAAAAAAAAAAAAAAAAAAAAAAAAAAAAAAAAAAAAAAAAAAAAAAAAAAAAAAAAAAAAAAAAAAAAAAAAAAAAAAAAAAAAAAAAAAAAAAAAAAAAAAAAAAAAAAAAAAAAAAAAAAAAAAAAAAAAAAAAAAAAAAAAAAAAAAAAAAAAAAAAAAAAAAAAAAAAAAAAAAAAAAAAAAAAAAAAAAAAAAAAAAAAAAAAAAAAAAAAAAAAAAAAAAAAAAAAAAAAAAAAAAAAAAAAAAAAAAAAAAAAAAAAAAAAAAAAAAAAAAAAAAAAAAAAAAAAAAAAAAAAAAAAAAAAAAAAAAAAAAAAAAAAAAAAAAAAAAAAAAAAAAAAAAAAAAAAAAAAAAAAAAAAAAAAAAAAAAAAAAAAAAAAAAAAAAAAAAAAAAAAAAAAAAAAAAAAAAAAAAAAAAAAAAAAAAAAAAAAAAAAAAAAAAAAAAAAAAAAAAAAAAAAAAAAAAAAAAAAAAAAAAAAAAAAAAAAAAAAAAAAAAAAAAAAAAAAAAAAAAAAAAAAAAAAAAAAAAAAAAAAAAAAAAAAAAAAAAAAAAAAAAAAAAAAAAAAAAAAAAAAAAAAAAAAAAAAAAAAAAAAAAAAAAAAAAAAAAAAAAAAAAAAAAAAAAAAAAAAAAAAAAAAAAAAAAAAAAAAAAAAAAAAAAAAAAAAAAAAAAAAAAAAAAAAAAAAAAAAAAAAAAAAAAAAAAAAAAAAAAAAAAAAAAAAAAAAAAAAAAAAAAAAAAAAAAAAAAAAAAAAAAAAAAAAAAAAAAAAAAAAAAAAAAAAAAAAAAAAAAAAAAAAAAAAAAAAAAAAAAAAAAAAAAAAAAAAAAAAAAAAAAAAAAAAAAAAAAAAAAAAAAAAAAAAAAAAAAAAAAAAAAAAAAAAAAAAAAAAAAAAAAAAAAAAAAAAAAAAAAAAAAAAAAAAAAAAAAAAAAAAAAAAAAAAAAAAAAAAAAAAAAAAAAAAAAAAAAAAAAAAAAAAAAAAAAAAAAAAAAAAAAAAAAAAAAAAAAAAAAAAAAAAAAAAAAAAAAAAAAAAAAAAAAAAAAAAAAAAAAAAAAAAAAAAAAAAAAAAAAAAAAAAAAAAAAAAAAAAAAAAAAAAAAAAAAAAAAAAAAAAAAAAAAAAAAAAAAAAAAAAAAAAAAAAAAAAAAAAAAAAAAAAAAAAAAAAAAAAAAAAAAAAAAAAAAAAAAAAAAAAAAAAAAAAAAAAAAAAAAAAAAAAAAAAAAAAAAAAAAAAAAAAAAAAAAAAAAAAAAAAAAAAAAAAAAAAAAAAAAAAAAAAAAAAAAAAAAAAAAAAAAAAAAAAAAAAAAAAAAAAAAAAAAAAAAAAAAAAAAAAAAAAAAAAAAAAAAAAAAAAAAAAAAAAAAAAAAAAAAAAAAAAAAAAAAAAAAAAAAAAAAAAAAAAAAAAAAAAAAAAAAAAAAAAAAAAAAAAAAAAAAAAAAAAAAAAAAAAAAAAAAAAAAAAAAAAAAAAAAAAAAAAAAAAAAAAAAAAAAAAAAAAAAAAAAAAAAAAAAAAAAAAAAAAAAAAAAAAAAAAAAAAAAAAAAAAAAAAAAAAAAAAAAAAAAAAAAAAAAAAAAAAAAAAAAAAAAAAAAAAAAAAAAAAAAAAAAAAAAAAAAAAAAAAAAAAAAAAAAAAAAAAAAAAAAAAAAAAAAAAAAAAAAAAAAAAAAAAAAAAAAAAAAAAAAAAAAAAAAAAAAAAAAAAAAAAAAAAAAAAAAAAAAAAAAAAAAAAAAAAAAAAAAAAAAAAAAAAAAAAAAAAAAAAAAAAAAAAAAAAAAAAAAAAAAAAAAAAAAAAAAAAAAAAAAAAAAAAAAAAAAAAAAAAAAAAAAAAAAAAAAAAAAAAAAAAAAAAAAAAAAAAAAAAAAAAAAAAAAAAAAAAAAAAAAAAAAAAAAAAAAAAAAAAAAAAAAAAAAAAAAAAAAAAAAAAAAAAAAAAAAAAAAAAAAAAAAAAAAAAAAAAAAAAAAAAAAAAAAAAAAAAAAAAAAAAAAAAAAAAAAAAAAAAAAAAAAAAAAAAAAAAAAAAAAAAAAAAAAAAAAAAAAAAAAAAAAAAAAAAAAAAAAAAAAAAAAAAAAAAAAAAAAAAAAAAAAAAAAAAAAAAAAAAAAAAAAAAAAAAAAAAAAAAAAAAAAAAAAAAAAAAAAAAAAAAAAAAAAAAAAAAAAAAAAAAAAAAAAAAAAAAAAAAAAAAAAAAAAAAAAAAAAAAAAAAAAAAAAAAAAAAAAAAAAAAAAAAAAAAAAAAAAAAAAAAAAAAAAAAAAAAAAAAAAAAAAAAAAAAAAAAAAAAAAAAAAAAAAAAAAAAAAAAAAAAAAAAAAAAAAAAAAAAAAAAAAAAAAAAAAAAAAAAAAAAAAAAAAAAAAAAAAAAAAAAAAAAAAAAAAAAAAAAAAAAAAAAAAAAAAAAAAAAAAAAAAAAAAAAAAAAAAAAAAAAAAAAAAAAAAAAAAAAAAAAAAAAAAAAAAAAAAAAAAAAAAAAAAAAAAAAAAAAAAAAAAAAAAAAAAAAAAAAAAAAAAAAAAAAAAAAAAAAAAAAAAAAAAAAAAAAAAAAAAAAAAAAAAAAAAAAAAAAAAAAAAAAAAAAAAAAAAAAAAAAAAAAAAAAAAAAAAAAAAAAAAAAAAAAAAAAAAAAAAAAAAAAAAAAAAAAAAAAAAAAAAAAAAAAAAAAAAAAAAAAAAAAAAAAAAAAAAAAAAAAAAAAAAAAAAAAAAAAAAAAAAAAAAAAAAAAAAAAAAAAAAAAAAAAAAAAAAAAAAAAAAAAAAAAAAAAAAAAAAAAAAAAAAAAAAAAAAAAAAAAAAAAAAAAAAAAAAAAAAAAAAAAAAAAAAAAAAAAAAAAAAAAAAAAAAAAAAAAAAAAAAAAAAAAAAAAAAAAAAAAAAAAAAAAAAAAAAAAAAAAAAAAAAAAAAAAAAAAAAAAAAAAAAAAAAAAAAAAAAAAAAAAAAAAAAAAAAAAAAAAAAAAAAAAAAAAAAAAAAAAAAAAAAAAAAAAAAAAAAAAAAAAAAAAAAAAAAAAAAAAAAAAAAAAAAAAAAAAAAAAAAAAAAAAAAAAAAAAAAAAAAAAAAAAAAAAAAAAAAAAAAAAAAAAAAAAAAAAAAAAAAAAAAAAAAAAAAAAAAAAAAAAAAAAAAAAAAAAAAAAAAAAAAAAAAAAAAAAAAAAAAAAAAAAAAAAAAAAAAAAAAAAAAAAAAAAAAAAAAAAAAAAAAAAAAAAAAAAAAAAAAAAAAAAAAAAAAAAAAAAAAAAAAAAAAAAAAAAAAAAAAAAAAAAAAAAAAAAAAAAAAAAAAAAAAAAAAAAAAAAAAAAAAAAAAAAAAAAAAAAAAAAAAAAAAAAAAAAAAAAAAAAAAAAAAAAAAAAAAAAAAAAAAAAAAAAAAAAAAAAAAAAAAAAAAAAAAAAAAAAAAAAAAAAAAAAAAAAAAAAAAAAAAAAAAAAAAAAAAAAAAAAAAAAAAAAAAAAAAAAAAAAAAAAAAAAAAAAAAAAAAAAAAAAAAAAAAAAAAAAAAAAAAAAAAAAAAAAAAAAAAAAAAAAAAAAAAAAAAAAAAAAAAAAAAAAAAAAAAAAAAAAAAAAAAAAAAAAAAAAAAAAAAAAAAAAAAAAAAAAAAAAAAAAAAAAAAAAAAAAAAAAAAAAAAAAAAAAAAAAAAAAAAAAAAAAAAAAAAAAAAAAAAAAAAAAAAAAAAAAAAAAAAAAAAAAAAAAAAAAAAAAAAAAAAAAAAAAAAAAAAAAAAAAAAAAAAAAAAAAAAAAAAAAAAAAAAAAAAAAAAAAAAAAAAAAAAAAAAAAAAAAAAAAAAAAAAAAAAAAAAAAAAAAAAAAAAAAAAAAAAAAAAAAAAAAAAAAAAAAAAAAAAAAAAAAAAAAAAAAAAAAAAAAAAAAAAAAAAAAAAAAAAAAAAAAAAAAAAAAAAAAAAAAAAAAAAAAAAAAAAAAAAAAAAAAAAAAAAAAAAAAAAAAAAAAAAAAAAAAAAAAAAAAAAAAAAAAAAAAAAAAAAAAAAAAAAABAAgADwD6/83/0v8WACQA2f+1/+r/BwDn/+H/EQAiAPb/5P8tAH4AXgAAAP7/MQABAKT/0P9UAGwAHwAQADcAIADn/+n/AADe/7j/3v/9/8j/hf9v/2b/av+q/xcAaQCMALkA9wABAeQA6AD/AAoBKAFNAToB9ACjAEEAy/9q/0n/X/+I/5n/Y//+/r7+fv7u/Yn93f17/sf+4f4k/3r/j/9o/1j/XP8j/8/+5P5n/8D/pP+Q/wAAvwA1AR0ByACTAHEAVABLAEQAVACtADYB0gF9AtcCawJcAUgAqP+5/5EA+QFNA7QDyAIoAcj/2/5I/l/+TP98AEMBPAE4AJn+Qv20/MH87fwH/Yz96P6KAIUBugG3AaUBGAHt/4v+Rf1o/Lr8nP5EAYADjARNBF8DZwJ1AYoADgD9/7H/FP/p/l3/s/+y/6n/VP9E/vv8NPzH+0r7HfvY+zH9c/64/6IB+QNyBQIFIAMQAWb/u/5ZAAwEPgcYCBsH9QS7AaH+l/3w/lUBoQP3BC8ELwG3/YL7ofpL+hv6OPo3+3z9JQCQAXwBYAHPAVcBEv/y+9/4D/YS9TT4c/6kA8IFRAbuBf8DYAEdAPb/Gv+S/ez8Wv3X/Vb+j//kAKEATv5y+4n56vhs+jL/VwVrCN0GHwNx/y/9r/5CBPcJYAzOC8UI4wKB/KL5APuc/jIDQQc8CNoFlwIBAOn9IPx8+vP4zfhP+/D+6gCLAYED0QYtCOEFXAGP+9v0p/Ai8/f6XAJsBkoI/AemBMcAtP9mABcAFP/C/kX+wvyZ+8n7DPxw+wX74vtq/en9vPxt+1L75Pt4/fEBkQhbDXEO6AyfCGYBnvpC+Lz6KgALBh8JmAcTA2r+ivtq+x/9P/5L/g//qgDiAI//IQBCBEMIPgjVBKj/Lvhk8KLuc/Ud/4kFuQgcCiQIkAI5/e/6Nfog+Vv46/hQ+gr8cf8UBqUNRxAcCy4BbvYG7bLoBe6n+/YJFhOzFTARVgZF+mDzQfT5+jEDqAheCaQFGf+0+IP1BPbC+D39MAPPBzcIEwZRBYwGqwdzBw0FBv9C9qzv5O+m9s3/ywd6DZYPCAzMA8X7JPfF9H/zA/WW+oUBcAWuBQYF4QPDAFj+1AC3BQkHEwWjA0MB9PpD9CbzCviW/58HcQ4GEUsNzwS3+yz1ivEJ8BvxWvXs+vH+0wG3BqoNchLWEd8LYwFu9D/qfOjf7zH7lgSwCvYNvAw4B0EC+ACZAa4CMAS/AyT/A/nD9Sv3zP2TCCUSHBUXEWoHP/n+62/nQO2v+AIFrw50EbgL+gF2+gX3r/Zu+QH+XQCr/qn7GvqM+jb+LQa2Dp8QIgkg/K7uF+VZ5OLtmvtjBkQM6Az6B6kB3QBZBnYLQQvoBiMAPvet8JXzb/9OC0gRshGtC879HO7l5rPrU/iTB5EUgBmuEwMH//l78DDsl+739g8BLwisCXMFZ/9t/QgBYgbXCV8JtQKA9vvqm+bX6VPx8vrzBJQL2gwHDEMMmwu5B08Cf/3i+df5XgCdC6MV0xnXFfQImvYo5hLeAeFQ7pwB/BJNGxUZsQ+rAhD1luuk6X7t0vMa+0MBkgSBBzwNYBPCFOQPQwZ/+eDscOVE5dvp7PDd+gMHMxKyGZsbrhUfCDP4mOzf6E/uo/wWD3QdZyJSHbEPBP3y65TjjubF8XD/lwoZEKEOzAfL/zj6UPib+Sb8lvyE+NjxSu6E8jz+agz/FZUVegpU+eXpteLM5FLsBfZNAeQM+BVMGo8YuRDxBJX4gu/g7Sz16AH+Dt0Y/BtjFdgGvvb66ofmXOr/9CACKg0eE3oSEQw6Aw38RPmS+vX8/vyp+IXxd+1q8Vn77QTFCTIIPACZ9UPutOy/7vHyXfqBBFAOHhUoFzUT9QmL/mb1x/KF+DUEDBEsGokacw/V/PDqNOC73xvqSvubC+0VCBlzFKkJ8P3z9lj3Af4lBsoJKAat/Rj2V/Ss+MT+7QEPAKj5mPHu667qV+0/9B0A3w0BGCsbgxb1Co/8m/Eb70L2CwRiE5MfqSOvG+AJDfZi5o/dW97h6cj65AhJEfgUuBLGCSb/S/mq+Q/+fQMKBnEDxf7U/D7+VADaANv9afYL7iLqgOtE78r0of32CFkTsBnBGRcSKAR99bXsku3I98wHjBhhJJEl0hnDBa3xZ+OS3brhwe6Q/i0Knw8sENALMQPo+hP4P/uuANADkQIC/+z8Af74AP8CFgHp+dXvE+iS5jnrlfM5/pEKBRYVHCcaQhHgAyv1yOqi6hf1uwRcFOsgvSXmHSYLR/bW5gjfn9/76E/35QNoC50Ozw3ACAYCuf17/cT/+gAj/hz5Rveu+nYAEgWcBWv/qPPW6Kzka+fI7sn5rgdgFTge/B6AF+gJs/lu7HzoFvAl/9EPRx4ZJqchmBDl+p/pI+DS3qPmc/UfBMcMTw91Db0HRgCG+wL8DACbA7EC5vxb93/3mvwCAnwErgEj+NXrXeTg5EvrRPbHBYwWXyILJSwemw+2/Ibr6uMw6k/7XBB1I64uiSspGXL/YugB2mDXMeE586EFIhJrFuMS4wnD/yH5TPhD/EABcgIT/jX4lvY8+sX/oQO5ArT6GO7j40rgAuNq7H79whKEJGcsJyieGLQBeuuj3wfjvPJpCEkeZS3sLSUebgWp7RPdHddY3RLtfv/jDekUcxTlDSkE6fsP+RL8swF4BPoAm/rv93H6Vv6DABD/sPdC7NjjduId5gnuffycD10gISkDKGIcjAf27zjg2N+f7RUD1hqFLkU0DSeCDcvytd2q0uDVcea7/P0PwRrvGt8RmARc+Wf04fZF/iYEKwPg/R37SvwH/iP/bf6w94rrKOJv4Pbj7etZ+4AQDyNvLE0rIB80CKXtJ9yX25vpu/8FGTIuaTQmJ6YNgvJm3I7QN9MQ40v5Jg6iG08eixYBCUL8EPX89Ef6kv/A/3X8g/su/hsBOwLd/+P2P+l33wfe/uG36s77+RKGJsAvSC68IfwJq+5I3Tbd/eorAM8Y3S0JNEMncw8o9lHgDdPE04PhsfU1CiAaNSB+GpINswBu+If2mvrP/04AUP1z/D7+e/+t/679Y/W56MHg0eCT5P3r9Ps2EqEkMC2QLLAhpgoq7xDeMt4g697/ZxmYLigzLSV7DUT0gt5T0vvTPeG59HoJtBmBH6UZCw1zAFj4yfYL++//UAA8/pn+cABTAJf+c/p+8Cfkl95J4dnm3u8OAaUWbSYuLKIpdh0dBjDs4t1Y4JfuFQQsHbMvhDASINwHPO/k2hHR6NTI4vT18gpNG90flBjvC8P/JPez9If4JP2+/Wn9TgBcA28Cj/5v94nqMt1L2dzeU+dd8/kGxxwxKmEsgSbIF6j/Iuit3mfl0PVsDDslxTMpLrMZXQES6jDYuNL82ZDnpvg6DOMaEh1FFRELuwFz+mH4LPu6/D77y/wwA5AHCQa/AIH2ReYN2ffXid/q6cr5LhAJJLwsKytxIjQRa/lM5v/hSetB/NsSeynFMrsoKhQ5/iLpitkG1gTd9OiU+c0NkRwoHg8WKQzdArL6e/fO+dP7+PvV/xAHSAnkA8b6he3A3KvSwNYH4+XwjgP0GjQreyyTJPYXjAM/7P3gIOch9tEIbR9DMGgtwBmYA23wceB+2cndH+Zq7+f9Og/6GD4XXhAWCdoAwvlS9xj3hPZ2+jkFEA4IDcoDO/Ro3u7LS8oP2CPqKv+AGY8u2DFtJ1QZMAfj8ITiWOW88soCHBcxK3Yv+x+iCr/42+gD3vLdROSh6pT06wRqEyQYrhWGEI0ImP/7+en2DvQL9usAWg0WEcwKN/wS5RLNusMVzsviLPvEFqAtOzNEKOMXaAZk85vm7egU9r4E8hSXJr0tJiKVDTb8ZO7c463hWebE6u/vd/sjClwTQhVXE7IOsgcQASb7mPRN8rj60wihENAN3QFM7GbSm8NMyUTdM/etFHIudjdTLcAaTQfx86rmM+gh9jkGmhVJJf0s1CM3EGv+3/C+5svjcedJ6w/vxvf0Ax4NoxFqE4gRawt5BOn9n/Xp78n1NAWQECwQxQVc8WDVocA0wfvT7e78DvAtuDvEMVwcnQYz8fjhXOTi9ToI/hbeJcwtDCTXDuH83fDA5/vk2+jg6wLtK/ON/koIZQ7bEqcT3Q4KCMsAfva77XnxOQE+D0QSEgr+9dbYgcHjvgzQrOs7DeIt4j0wNYAeaAaU71vf/uCs89cIHBlAJ4EuNSUREFj9LPHZ6ATn6ut+74jvjvMq/YsFEQvDEK4TBBCSCQEDy/hI7rrvMP/zDs0TBQ01+pncCMLJu7DL2edNCkUtLkGAOkgiOgix8ADfed4c8VAIyRnsJykwXiiVEsX9A/He6MHluenI7jjwdPNr/M0F3QsWEYIUwBG4CmoDq/mg7ovtf/u7DBAUDA/R/QThiMRKug7H/uE+BG4o0D/cPJMlMAqL8dregtxd7jQHaxqRKL8wwikZFHT+fPHo6fDmhuoP73DvZPEW+lcEawudEVIWGRSKCxoCy/eu7HTqIviKCx8V4RC8AB/l/cbJuC/DNd7LANUlV0D4QIUq0w3l80Dfj9l06ZcDthhjJ6QwFCyYF/YABPNU6xPoK+tb77fu9e7y9g4CJQpEEd8XmxdFDwIFBPo27bHnBfMxB5QTZRIEBevqi8u6uYHAV9m1+ssfaD07Q88vmRJF9+Dgaddy4zv9VhRAJBkv/i3BG9oD/PPA64zncumW7sfvju+U9Q4AxQhKEJMX/RjuEaIHhvxY7zbnye4SAiQRXBM1CWXyntN8vc+96tGh8AcVBzYZQyg2nBuLALXojdor4H72VQ4eIAstti8aIUMJGvdq7S3om+jN7ZPwIvDX82D9NAd3DxsXOhohFU8LUQAp82boLusa/AEN1RLMDE76Nd05xMu/vM/z6f0J/CoaPoM4CSKsCBXxI9+D3bHupAXgF40mCS+aJ0ISzv1G8Wzpzebd6hjvaO8Y8kX7DQa3DhYW6hlSFlcNFAMX907rbOk09oIHbRDaDSIAP+cDzYXCD82745r/3x19NDI36if7Elb+Xetr4tPqXP3pDXMbzCeDKlsdyQnL+sTvjOcx5urpb+xx71r4tgSMDtsU2hcKFa8MRgNc+tbwvOur8uoBiwxRDPcCaPC910XH7srV3Xb1QA+FJ0Ay/Cl8GEwHmvY76S7oK/QrA9oP3Rx9JtwiUBNdAw/3wuto5DzkyuaF6T3xS/9NDdwVcxihFRcOggTt+7z0me9o8aP8XAlBDeMGBfmc5OXQqctk2NLs5AFtF4knSSkUH8ASyAYa+e/urO/D+MYCtA3VG6Ul+CF8FAsGmPfV6Mnfot9c5JPsCPsJDRwaQB3/FxoODwNk+uz1S/Tm9DL6UQNlCdgH/P+l8jzhFNXc1yXm0PUbBLgRXhpaG+8YKxYDEKwE5Php8iPyE/flAl0VoSVOKd0fzQ7Q+LPhstL50ercI+9cBrQcUShyJIkV4AP89VXvP/CS9QD7+P4bAtwDnALD/YL1Reud45Lj1urR8y/6s/4oBPwL+xXWHyIkFR1sCnzznOIV39vqngP1IV44qTrrJwQISuMzxAK5B8hO6G4MECuuOs8zWhtq/yHqNeDZ5Ar0HgErBPoAp/0I/O78+f/UAL771PKI6z3oS+dl6cTyNwIlEd4dhCg5KTAa9AO78IfhlNoD5i4CvR8OM4s4LywWDSXm+sZZuWvC8+GgC/4sbDunNcceJgBj6JPgLea08Ub9IAP3/nz15vEG+LoBtgoBEjoQW/4r5q7YutjO4X/3wRgFM7I1RSSCCkXwX95c3ivwFgm4HRMowiXBFqUAwO3p5K/ly+2p+uMEDwb6AggE3AcjCWEJ9wrHCWoDj/wo977vNOnp68L2XwDLBWcJMghT/w/2lvT396r57/rR/7MFkgfzBukHzgcMAsj6HvnE+5n/lQj2FoQfiRp4DDf6JObW2eLfXPQmCgYayCDoGZIHPfXX6pfoWe9y/owMzxBuDUYH7v059JbyR/nc/Wj7Wvew9ALyvfMvAMMRKRv9FwoNw/zh6a7fV+ff+QwKdBRyGaITHANk9eP03/zCBbgN2w8DBe3xF+Ue5m7yrAWLGicnaCKqDW7zwN3k08bbB/PqC+kaRR+ZGREJU/U56hXpY+w49OsAMwoCCWICfP5h/cr8y/4DA30Dw/5k+yj9DwALAXsCCAWaBNr/Dfyt/WMCawZ1Cd0JEgPj9XLr4ess9yIIiRjkIY4ffREN/JDmltkH29/pX/7dD7UZrxpRFLQLbgV7AIn5AvE36p3nCerj8Kf6iwVrD14WxRhgFB0J8vvy8b/rAeqa76P70AiWE9wZ4xeoDFn9h/BG6i7sJvSr/ZgGZA5BEpAQ6wzbCsAI6wN+/BLz5+gM4/rmK/RWBasVNSJcKAMlXxYv/yDmRNIwyozSH+hV/3IObBRJFLgQgg2mDWUOwwnZ/evucuSb5HLwAgQnGIQjfh8YDvj2BuEZ1J3ZAPIXEGEmPy+2JmwNcPKL5izoDe1w9Kr+tQMQAUX/RAKmBrsN6Bh2HkcUBv7m5XbSKMpY0yPrfQaUHK0n3yFKDPb0Zuus8j0EXhhNJZsgDAqi7knc79fH4HT0+wrRFwQW6gvo/x30RO3f8N78kQoqFvobChbABJryFenb6EPvYfpiBdwJ8gbhAC365/PW8tL71AoiFZMULAuu/SXxG+t/7Zn0wvzEBU4OzRKoEt8QwA98D5wNswSa8l/eb9L+073iS/oTEr4hoiaTIlkY/Ar9/FbvrOOB3iTk1/OABwAXqhtKE0QCxPF/6fjqkvOYAIkOBhjOGBkQJAEI8zHtCfJA/V0HUguPCQ0GxAMuAg//gPqf94T3LveL9eL2Ov8YDeYaRyIbHn8MlfE32FDMqdFr4yv81hYlKv0txiNkEoz+Suze4M3eyOVp9egJOhpgHzkZoAo4+EzqYOf77ZH54QcdFNgVBguU+4zwYO5b9o4FvBN6GbIVYQvg/ZDwHecY5Yvsvvo1B/0JJwTh/igBoAkrEqQUTwz7+JviRtV414LmG/y7Euwj6SioIGQRqwFo9O/rzumN66bunPVkAqEPURaIFTgPowOH9Q3sQuva8JH6gQf4EQ4SeQgR/oD4CvgQ/dYFIAvZB7f/b/jp8nXvBvFn+FUCiwsREU8PLAfr/2T+0v/1/4T94/cU8LzrRfCK++MGUw9BFTUXEhMrC4gE4gA4/n76kPR87MDmlOvc/XkVXyaDKewcmQK945vOgMzp3JD5PBi6KjonWREP9vDh7N3u7PgGsRzJI2IciQtZ99znCeSO7KP8twwuE98Ks/o0793t8/SqAVQOhRFqB1T3lev26EjwbwEBGMMp9S0zJPUR0/zT6RTel9uo32HnWPP9A98UGB9GH9EVVQPB6u/Vj9Aj3XT0Dw48IpUoNB4hCjv3uO1Y8dv+owx/EkwPUAZu+8ryae/28Nj1dP3yBGEGeQBV+vj6SQJFDGkUoRS6CGH1B+a34pfrsPzFECIg3SIPGFgH7fiX72zrxOz08Yf2wvfI9xD72QOQD/AXNhccC3n1uN1k0JvWdu14CsEkfDSiMU8cZgDD6t3gnuSH9XwLkxpTHWsVIwYb9C/mzOGf5wH0lADCBksEM/7Z/FIEGREyGy8bUg5W+a/mTd+q5AzzfAZIGbEivR7+EsMF7vfH6zjnr+rW77Pzxfh6/+UFogwhE6ATqgml9xXkhtdL2j/tlwc7H0ou/i9oIasHL+5e3pLdVe19Bnsadx9SFn8E0O9P4GndvuZk9aoDWQ3tDPkC+voj/9IMehrCICwakwRl6NjVT9Y85rP+MBr0LZ4tBRqkAI7r/d2R3Gvps/soCN4MrAtdAwb3+vDD9qgBzAcEBpT9sfCj5ifqSfxNEQog9yceJogVMfxn58bd7+DI8rcMJh69HSIRRwD97hPjeuKz60j58gcaE3AUpw0+CbkMdhIlE3YMev6s6zTcKdoh6Oj9zhDYG/IcJRIrAMPyye8e89b4g/9YAi3+ufgQ+JT51/nh++YBxweeCDMDcPmY7zzqI+xZ9rUGyRbSIIwjFR49D/D7UO1d54jpFvQRAyAMlApnBNr/S/6o/z0CNAPHAoICoACN+1n35vl3A9YOoRb0Fh4MtPbP4NPXmt+X8KsC9xK4HZccNxB4Ag76wPTD8LXwlPQf+WL+zAVLDPMNxwqqA8D5TvGC7Z7smO6d9hYC0QmgDU4SghUTEloMRAosBvj5Je3u6H3rIPJ0/8oPkhj4Fp8QsweT+5DwputZ7Nfxzvz4B0MLwgiECZsNiw2HCC0Cavhd6kDht+WX800CkBAjHSgf6BJ2A7v67/Sw7lPuTfXx+hb99QIkDIcPZgsjBcr7+evO3evdp+vP/C8N2hqVHIwONP6A+Cb6df7KCO4TaxE3ASjyceu/6wb2hAmJGGAY2A1BAR/15Ox47T311P4pCDEO9QpJAGn5o/z0BUYPRxOOCzz3I+GC14TfAfTLDCkiZiupIqAMqfXx5Unf/uMz9P4G3RFkFBYTOQ3EAgX7bvkR9pvr8+Ea4w/v+v/hEbQfdiB7Ebr93/FY7/7y0v2zDHIUCxCrBQn6ue7P6jTzfwBJCh4R+xS7EYIIZ/6o9Ebt6+4J+ngDggOmAOACXgcpCXEJtQf7/h3x4Ojd7LT42wRLDoITFRH1BsT7gPVz9O333f9CCLQLwQqlCdIIkgYsA+r9b/Qp6Ojdmdmh4Fb3lBUOKkkr/xoS/67iKdW+3MLx/Qo7Iv4snyICCnHyxuP24K3t9gRWF6wbgRZ/DfwAmfP16y/t2PRg/rcDhwAo+XT3rf4zCoAVrxsOFXMA9umL3wbjnu3m+98Mdhk0GY8OyQMT/Wf4RfdL/D0DLQbXBU8FhQMk/wv70/mo+A/zxulZ44bm8vM9BQ0Tthm0Fr4IC/cI70T0qP3aBvwS/BsnFpUEqvQo607oUPGUBDUUBxjFFF0NHgCZ8uXtGfEp9lj9wgWPBjH+hPkUAFUKfBFnFWYRnQCS7Bbkg+dt7uv4DQnLFFISAwlbBGICu/6k/vIDXAWW/lH4PflU/VQAFgRfCP8Grfxl7qjiVdxY303wmgmCHAkiUB3/DrT4becA58vymAFWEisgAx4DCs7yZuQA4ovuVwfHHTAlAB76DUv6POoY5Onnv/J5AdYMVgzMAdH5N/0VCeAVOR1IGM4DVuhg1ULTmd/39EQNgh54IGoW0gpqAtf7nvhI+0//Qf6T+ob6//xe/tMACQUuBA778u+T5xHhWt9V6Zz+HhX9IvUkHxu/BgrvReEM5eL0jQePGCMiWRzKCIXzXeYb5aLx/gewG3AiBhyeDMD5n+yL63TyEfryAKMGRAbN/ln5fP5EC64WBRv5FDsCQOgc1XTTz+Ex+NkPAyL/JkMdXAyp/M3xGe488s35uv9MA88EqQPdAYMCeASvA07+c/V769PjbOJX6eP21AYwFdcdwhyTEuIDm/P05ebj8+8CAIYMURcvHZ8VXQRt9uTv+O5u95YJsxliHasW9Qs3AEP18OwP6LXoafFm/vkGTQnJC7IQAhMxEM0J3P0a6szWW9KY4E/38gwdH6YoUiK8EOwAl/c58t3xWfcD/Z39Pfu9+pP9UAIlB0MK7wg0AI/wpOCU2VvfK+7h/swM3hYmG6oWIgxzAfr26Ozh6vv0BgMDDnoXaRxWFXgG0PrM80Xxnfp9DQUZfhYSD5oGE/pj7oHqnOtr7hX3CQXXDdAMnAk8CdQHxAR0A0P/HPJy5Objn+8y/a4JuRbTHXwXRQnv/Rn3J/Js8dX2nv17AAABNgMLBiMGMwTAAZr7Ye+Y4j7d2+Hf7nwBYRI9FzYP7QX6AkoC0QGqBMMFt/109Fb2Zv9TBwESnR+2IkgWfwXU9+vtLu44/PcM5BRyFLQNeP/a7j3ltuSm6on3kAirElAPYQX2/fv6y/zkA7gJHwUo+OjtAuw28F752AdnFSoY5A9CBaX71/HT7Tv1uP8aA+ICEQRaARr5jfRA93T5dvdV9Tv06PKV9Dj8owWDCvUJNwdxBaYG/gmjC8oIbwFz99TvHPEv/OoKBBj6ICgh1hWxBIb1veuv6t/0CgSPDR4OjQjo/j70QO5D76n0y/yABmYLjwWA+g32VvylCJ4UFBmKDy76i+Te2WXeMPAZCZYeYSWIGzsK3fle7STpDvD4+ikAZP88/SL6lPZM98z9/wO4A+38OPML61PpEvFrAI8QXxmaFsMKQP7v+HL6rv0KAoMHnwgSBBgCRwbPCUcLPRFdGPIUWgcm+oPwyemA68z2IQL/B5MLKQwABsf8T/Yy8m3wJfUa//oFSwd6CRIPZxI9EKQKaACA76/fqdyk5h/1IgUxFgkgqRtvDuQAC/Xb61/ou+rg75D1bfsMAkYJbg5gDtYIQv8s80Doe+QD6/34LgnHFnYcqxYECCz4/e7x8Fj8kQo9FXEXoA5HAGX3b/d0/CIHGRfXHwsYzwcy+NnoSt+Q5rz6YAxrFYcX1xBqAg/1C+4t7FPxv/6sCqoKXQOB/+r/2wDcA9YHagN3863jnN/c5rT08QaFGHQg/RoqDYP9Ze7R4QjdJeOa7+D7Mgc9EhoYNBR0CokB4vm28SjsPu2k89r7TQUbD3YULxIRC58CWvp99nb7AgUtCxENMQvIAXT01O8J980BjA3DGhwgqhUqAuDuN9/02jrq3QTJGZwi8iB6FH0AXO8c6Cfpr+9Q+pgDEgX+AGL/TwJdBi4KJgsKAonuut2v2yLn+PiRDdcfeiUpGksGAvOl4qXZsN6u7v7+MAt9FEAYRRNnCYEAp/l79CfyDfJZ8or0hvsqBjAQshZWGPgSLgYC9wvtEe0y98UGLhQRGcIS2QNA9S7wx/XfAWgRsR4qIMQS1f2N6kXgf+Uk+WYP5hyVHmkVRgRj8vPmT+N+5jvxXQA5CrMJ4gRqAgwCTgOYBiAGevup66PiuuWD8U8BzhG8HLwaCA19/B3uheMC4lPsyPuMCMoQ1xM1EEIIJQEC/ZX6hfgu9nXzI/JI9Q7++Ak+FJ4YPhUZC6/9PPFK6fPpZPbqCc0YPBzaFdAHOPVy6AvrF/nxCJYXISEnHOAInPSy6J7mZvB9A0kUFRr7FFwHr/VI6CXkU+dY74b7QgeiCkYE//tC+c38zAOUCqsLOwNt9bjrnuq27wv5CAV6DToNIgfR/wn4I/Kx8tL4if8oBbcJDgvXCJkGFAYKBaABL/xz9WLvLO5b9Jz/NAt8E2gWChMUCsf+c/WX8I/xNfoQCHASjxQrEUgIz/is7EDvXPtcBvkQHBsDG5sOPQCS9ZvucPCt/F8Iqgr4BjMBlPi18KnvuPPO9wD9+ANqBa39KPbN90v/EAcQD5cTgAxv+3jsc+Y+54/thfm9BcgK5QfEAfn7WPjQ+IP9sANDCNcJhwi4BaEDOwNtA6wCAADb+mb0SfBw8bP3cQGhC3URuRACDPQFKv/V+RH52/x4Ay4LDhCPDpsHjP3L8ont2fIy/n8IoxEvGO4UHgjR+yr1bPKO9Nf7JQIxA2sB8f63+6b52fnU+c/4cPmK+2b7CPl5+Xb/CghRDyMTThBCBJrzS+iJ587tP/bP/34HtwYk/t/39/j7/PUBxQn1D6cNmgWK/9/85fsT/msD6garBEj+oPeW8/fzqPnYAqcK5A2ADS4KCwTL/pz9z/37/Pv9mAJ7B+sIpgbeATD7xvT78qf3w/8gCKkPqBM1EaEKDwQ3/aL1uvFr9NT5/v0HAo4GRggvBc7+/vbz73ftAfH19hj8ogEGCAEMcAx+C2AITAC19fLuj+6m8VD1lPmz/Q7/gv5RAOQErQjCCgoMwAqyBVMATP7r/mMAwgInBc0E6gDE+673/vV89337FgCUAx0FvwRMAxACEQI6A6sEywU/BhYFHQLK/ywAcgGmAXgBKQCs/Fr7cQD7By4NORGtEnkLrvwl7wDowucf8O3//A6wFVITSgoi/WvwW+l36cDuGfdTAFcGMAamAuIAoQGiAhQDbwEL+97xFOyr7A3yjPqdBF8MXQ6kC1UH1QIQ/6H9nf5SABECawSoBgwHmAW6A7QB5/4N/Gj6pvkw+dD5Kfw3/wMCAgUPCGcJGQgrBbwBif7t/GT9D/7s/dn+1QHcBHAGSQf1BuEDHADo/6wCQQShBFgGLAdfA/78PfjE9QH23vqlAiAI7gjwBbX/L/hZ89vxLvET8gn3k/0IAeUBzgPWBgoImQaqA4T+OfZu7hPtDfNx+4YCdwhfDJALTQdCBLsD1ANjBMkFMQZlBP4BYADx/lf9jPza/N/8ifuu+cH4Vfng+8oAJwapCEkIVgeHBe8BSf9PAH8DigZICasK8gfhAJj4//GH7+zz1v33Bl4LjwumB0kAIvoa+ff7cgDfBfIJewnxBGL/pPol+Kv5Nf4NAvoCFQH0/Ln3LvPA8ETxGfWa+1MC6QVNBeUC7ABc/yb+4/2I/Qr7yfYG9Eb14flxAL4IyhAxFEMRngrzAq/7BPe39pb5JP2CAJ0DVwUFBbgDYAJ5AMP9efvT+tT7Af7TAF0DeQT4A/UCnAIjAxUEsgQBBLsBw/7/+yP6bvpe/TcB+wNeBcoFiAUKBSEEGQJe//T83PqY+Qj7Gv8dA+QFCQh9CKwFsQCG+/f2q/TN9kP8PgGNAx0DBwAu+772aPSq9Mf3cv2YA30HXgg8B8cEvgF7/yn+0vy4+0P8gv4gAUsDxATuBGADBwFj/wr/vP/5AOEBuwHkACIAqf/E//EAOAIdAigBWwAn/7H9nv0L/3oArAHcAtYC6wCo/mv99fw9/eX+TgGjAh8CoQAj/+r9E/0v/cb+LgG9ApgCdQFGAG7/Mv/p/6EB4wNgBbEE/wHv/rz8y/u+/On/ywPfBRcFXQLE/vj6Nfit9zb5k/uT/aT+3P6Q/hr+5/1c/of/0wBcAf0AQQBN/0/+RP6t/5ABvALNAqEBSf/v/F78Of50AakE5AY1BwcFUQEF/mL80Pwz/1kCjwQfBSMEmwE1/t374vtR/Zn+gf9CAFYAlP8A/zv/Z/+v/rX9fv0v/qH/twGqA3wEIATyAjIBlv/z/iX/ff8rAL4BiANhBEoE6gMpA7wBJAAk/83+sf7d/s7/UAF6ArECyAG8/wT9S/oi+HP36fjE+5P+2wDFAsIDDQMTAQ3/qP39/Bf9zP2h/kL/mv94/9H+Iv75/Zz+IAALAn8DRwSVBP0DPwJtAOX/mQB+AR0CnwKyAs8BQgAJ/63+6/5B/0f/uP6w/bD8WPzu/CD+dP+2AJsBwgFNAb0APwDQ/6f/3f8dABIA0f+5////kgBeASMCYwLnAfQA7P/y/h/+tf0B/u/+/P+nANUAmQD9/0z/9P7h/sb+1P4n/zD/fP5r/Zz8VfzB/Aj+uf/qADoB5wAvAF7/+P4m/5H/5//5/9j/BwDrACcCEgNuA1kDsQJrATsAwf/o/6EAzgHTAj4DBgPuAQMAUv6e/X/9vP3D/jkA/gC2AA8Agf8R/wf/nv9IAEsAwv9D/+T+mP7j/gUAWgE9Ap0CigL+ASgBggCWAJ4B+QKcA0sDbwIIATf/6P3H/YH+pP8fAZACJAOHAhkBWv+4/c387fyY/Sz+nv73/tX+GP5b/Tj9kv0V/qP+/f7M/iP+Z/0P/YT9sv7r/48AiQAtABIAnwCmAd4CIwTyBL4EywPPAg4CZwG0AOr/Of8G/4X/mgDoAboCcAITATP/cP1i/Fv8Mv15/qX/IACa/0H+rvxm+7z6+foY/J799/7u/6UAPQGeAbABXQGKAGb/b/7y/QP+wv4lAKEBewKJAjMC5wEYAjwDMAULB60HZAZvA/L/af0c/WP/+AKoBeUFXwOu/mb56vXU9dX4df0XAtsEIgRFADz7u/Yb9LL0dfh8/eABzgS4BWQEBAKSALcAhAHzAZkBSABd/hH9jv3B/3MCSwSfBM0D3gLoAlgEUwYKB1UFFwJZ/2j+tP9CA4MHUwnWBgsBFPoa9K/xdvSB+94DGAqGC5oHMQBE+Fby1O8R8Vv1TfsmAToFlQaQBZkDEAIaARYA1/6S/W78Mvwe/hYCNwaRCFsIrwVMAS39OPyp/2cFEgpsC5gIcgLx+3z4w/nN/lMEAgfQBUkBXPq180LxXvQX+94C2QiJCeEDKPuH8x7vDO9p8xn6hQB7BeYHuAY1A2AA0v9JAegD3AUOBYwBm/18+4H8swD6BUoJQAlzBkQCiP7c/Jr9KwDCA70G7AbVAxz/WPrm9vX2WvsmAYIEqwStAu7+pfqC+L/5cv1+AukGUge0Aub7/vXV8h70hfnO/34EjAe6CCEH+QNMAjUDMgWFBtUFAwLv+yr3PvdT/P4CgwdfCLMFwwBY/B77+PyN/xwBTQFXABb/7v4cAN0Aav8s/On4A/er97j74QEqB60J9wiyBMf9jfc59UP3vPxJBLkKkAygCUUEXP5b+dv2O/e/+S/+AwTCCBEKqAhUBk0D7f9c/f76pfcT9fD1GPql/60EOQd0BnwDIQDg/Yj9iP5D/8D+Gv3X+pP5CfykAjwJJQu6B9EAwfgM9Gf3ZAFNC9AQ2RCYCVD8BvHH7jn1UAGVD4kYjBUACRz6a+1H5pnnpO/v+WEE2QzODkwJ8AHz/ST9fv3E/cP7Lva88ITxZ/qRBz8TkxkjGcsRAgbD+773+fgG/Ov+CAAG/rj6XfrJ/qsF3AqDCtACsPWf6KLigOiT+AILnRcMGmYR/wAm8Z/pfOwh+GcICRWtFu4NqAAf9JnskOwk8sD5+wFkCZcMOQoVBb8Alv+gAk4HxgclAVv3efE69Dv/6gw6FkMX+Q9SA1f38/Gk8/z3Ofsk/Pv5FfU88ZTzi/2rChUTQRHmBeD1o+d442nuKgKAEkUaChqEEE4A4fOq8Wz2X//fCxwVYxMpCYD98PIv68DpkO5j9l8A0gtWE+QRpAofBc4DTgScBEECXPoW8AvtcPaJBpkTWxiME0MGw/YB7nHuCfPf90T8Kv7a+3D4Lfho+1QBiAnsDkYKo/xK7nDlbObW9B4LtRsqIIkbiA/g/SvvUOtJ8VD9vgxXGGUXjQpM+hLtEOaf53nwfPtMBcUNyhJPECQIvAJ8BNIIAQrXBSr7vOzm5K3sKwB9Euka7xc4Ctf2l+ma6UXx9/iV/30DhAAO+Sv1wffR/uwJ+BRDFe0G3PLq4m7doejoAVUZlSLqHrgRQv1G68jmpu9S/+AQHR1rGyIMuviM6cnidOYQ8u7+LwlcEccV/BGuBzwA3gCrBJ8F7AHY9yXpv+H17EcFSRpeIqAc8wls8Xbi+OWy9OoCSwsGC2sAWvF06WvvhQCnE0EdZxbYAsrsZt6f4K70dQ39G9UdphWZBPzyS+0Z9eoCVRGlGscXqAoA/c7y4Oq+54zr3fLR+0MIRhSgFn0OqQW6AhsDgAM2A8D+OfM96FXq9PnFCvMTVhWEDn3/AvF17d3yC/j3+fr53feR9lT8jAfKDmEOLwmB/6Tzje+z98kDrQ1MFWUTZwF16zXjOOoo+kAQaiP/JPcU/AGw9DTsJOn96yPw3vN8+7EFfQo9CnMNSRN+EnYK4AD/9FLnQuJn69/5wQTdDAATVxJeCSn+v/UR8KzvxfknCWYP3whg/1n3nu8d8HL/VxFZF3MUSg1S/YHpuuG16Zv4uAnnGJwbEw8r/431z/HT83T8cQW4BxQFKQEY+rnx/fG+/nMOwBbwFD4II/JZ3vHb4etVAV4R7xd4En8COfM28cT8TAtNE7YQiwOi8srqufJdAxQSFBuEG7QNnvT83k7YhuFC99gRvyPEI5AV1QIC8gDnHOZZ8PX//wxXE+4QxgTO9Z7xKv2WDicZBxbSA5bpZtd62OLnePqDC6cXcRjrDm0FtQDD/CP5dfnX/IoB/gmiFfwdER6ZFEgC1eyw3RDan+GN8osHDxc8G0sVhAg2+RjtHOdp57DupfpHBHUInAslEYEWoxdUEUYBAesQ2c7TLtsj6+/+pxAPHTkkxSKVFJP+Sury3OvbQu3SChQkrzDkMDIhawIO5ZDZo98+770CORIMFQ0M1v+y9YvuHO2284z++gecDZYM/ALx9+z1m/xOA20EUP3e7F/aDtO83JHyxw3SJ1Y1/CvuDxjxAdyF1knktQGrIEg0FTmhLWcRa+9+2czWSOO8+IEMCBIFCu4AM/yF+Nv2JfvXAoMIJwvqCqYGdgErAqAJ8g8sDLn6+942w661UcFg5fMTiTrMSoQ99xbg6bbMVMrp3+oCxyQ0Ocs7cy2jEgX2IeTU4mDvEgBcCNgC+PVJ6y3o+u4//S8KrQ+WEBEQIwtlAWD71ABIDjcZ0RhAB/jkBMAKrlq7gOSVGrVG+1FRNZQAlM8auVbFcuzeGj08vkUXN44XA/WF30DgCPQ2DcIaLhNA/Kflr9ui4Gjvrv+0CsEP2BDODM8Dbf3sAAUMihZFGKkJtuifwB+n6K5v2tEXpEpPXfdIvRRX2Aq1sLzu5EkX9EB9Uf0+0xNH6VHS2dW38vcYfyxiH+/+LeCUzzjTj+izABcOlxEbETUMcASdAxQOnBpHH64XMP5w02iqeZuUsPjjbCMSU5pcJT3FAwDMBbOUww7wxiLBSBpRrjbUCXrj/tNu4S8FXifyLecUQu5dz4HGq9fz99kSkRtRFLUEvvMX7Gn48hUyM4Y94ik79zK2t4fahpq2gQPdTAty7GK/J97dpaobpWPJsAM6PTFdPlJEJF3v98zby5jvKyUrRyk+HxOo3xi8Arl61lcB3yJ/L/4kVwj+6Sve5escC70tQ0BYLU3ztK9SiYiUks3RHApeOHHQTcUIB8dOpmewht5DHbROa1l2OzQIKNjmwQTUawUDNZRELi7lAOnUvL9PyHPl/AczIusouxiJ/c3r/+3X/+UY9yyiJ/P9v8NSnROfY8asBLRBtV5ES9wWCeIWwp69Ftc9Bk8x20BbM1YU9fDl20vlSgXjIAwmVhSF9CvYx9Fb4VP4mg5lICUiMQ7n9JDrUfQLBaUXfCMeF5TtJL8vq6+67uKYFV1A0kssMMgDW+NU1nnZ/e4KECcm/iR7FRECp/Gf8UoI7SPuLJ8dHP2g19nBHMut6akIkiDgLjcohAq/63Pie+5ZBNIagCNoDU3dDLOHq2rIbvlkLAJMUEQnGpTtHdcQ1tjlYAXiI2YpORZk/cvpDeNb9hYfRz40PCMcZ+xfvz+uh8T971kYUjVVQMQtBgX54/Dd0e0zCGIgHyHI/ajJH6rVshvb0A/0PWNOtzN4AqXfJ9eE3xn3YxngLCQgWwLe6LvbDeXBC8c6gk+uPdYPUdeMrTKrBs6W/Cwl7EB7QvMiMvjw4FHkmPjQE6IjsBCd3futEaNdwB31AS7EU3pOiyGa8YPaNtlq6MYIgibiJbUJPulH0nDQ2/BhJ31P4lEsMPb1j7phn5ux8d0KDh04dU1UPc8RCOzP36jqqAQ2HjscHPQawIelDrJP270QUj6zSu4tlQPt6wTp6/ESCa8khiiiDTXqfM+wxojeRxQcRu5Vr0ALD4/Rl6e7p/THufI8H3NCw0YMKdQD/O5c7Rj8+BLSGLr6rMqSrfiziNW5BPMxAEUnMNQIBvEF7x34tAwaJ6AtPhUM8XrTdMZt2ckMRkAJVHlDZBYU2yyv7KrOxtvsKxQCNuY/nCr/Cvn3XvT0/DAOqhRY++vO+LNHux7Zbf9cJL80ASI+/5ru4PQQAgUUmigrKt4O3OqS0D7G1dhSC3M/clMSQjUVdNursLOsQ8ne78UUjjHcOO0ldwoo+wf7rQSPEmsUpfhNyzKx/Lxt4O4HGykCNQkfffkJ6B7y6wU8HLUwGi9ODyHna8uBwyza+w5aQtJT3T81EWrXIK+nriLNLPS8GIkymDQfH+AFQPpe/dgJ4Rf9FQH29MbcrAK63OBMC/0qXzL4Gfz0teSS8VsLiyY5Obsw1wq136LDvr6E2z8V6UhqV18/5wsAz6KoRa1mz+f3qhyxM0AwXBcp/4T2Vf2IDsceYxlX9FbEN6ymupviWA4iLCsuChPY8HTk5vNtEQswjkD3MPYEedeWvCC91uExIDdSzluAPu4FMMb4oRqs89Jn/g8leTtENMQXhf5+9XH7vwxOHVMWBPD4wo6wucIV66EUhCwJJpsGYOjQ4l72/BZVOLZGPDDo/jTQ/rYHvbjp4iueWhVeRDu5/gK/MZ80ravUWgCtJ+Q7LDAPEpL7JPZ2/rgQ0x6WEYzmnLtUsP3IY/T9HB0vcCAZ/QjiEOIH+r8eA0IfTH4tRPa4xciufLxx8m83EmGIXPQxnPC+s1OdTrNG3S8IFCzFOWcoAApi9132SAJ5Fawe9Qhs2iS1JbNC0lYAQieKMV8ZkPOI3RPjmv4CJn1Hm0npI9br571NrNbDuAFjRIhkp1YiJO7eJ6gunoK8KOn6FE81ajnPIJEDyfWn+MMHphpwHLD9Yc6OsTS5Jd3oClcstCxcDfXqat+x7PAKpzFlS10/cBDs2o22YrEL1voYsVLQY6VKRRJ7znqif6XKyWf29B+hOQE0Whey/kP3gP08DfUbChRU7h/EVLVbyDTvjxj7LighHfuU35vg8vaOGpRBSVGINXr9zMgXrB61/OhmL0heY2CBOuT597hNnHyv5tuoCnkwzj2EKhAKzvaK9isDPBZuH5cKxNxmty61bdMdALgnqTMRGYHuzNcA37r5eCH6R+ZO7ym28A3BkKw+wb39l0CJYgBYLSlI5UarLJzGuHvnihUgN7Q75yHAAoX0v/dKBkMYJhp0/ODOnrSevrziEA+uLxwu7wjC4OfUEOXEBYwwa1DnR5oXyt0rtOqq+M4+FNhQYGQPTWAVVtBgoQai5Mba9dcguDqTNKkWiv0t+HoBWhKkH+MUFOyVv4uw18Vf8FcdmTZNKZ//+t1b2oXurRHuOs9Pdjk/BCfPe6/ctHfmfCwKXH1fpjvu/Lm7zps7q7rVxAOcKZ84tSfyCN330/p3CRoctSPiDKXcaLWasiTRQ/8QKqs5syCm9DPaH93n9Dgci0R7TscsdvVcxJOre7zJ90s7eF8dWW8ud+vIrt6borUJ420RgzToOUIfpv9M84j5pQoFH0kixQKU0KSxO7iN2m8IGS/NNbgWR+9y3ijmv/6OJWVHX0WNHM3nm77EsH7Npwx5R0ReQk30Gs/W3aOcnlK/x+2pG905nDaDGCT9Z/VW/fQOAiApGoLzB8XDsUHCiOjnFKkzxC5rCt7oE+Hg7ckJezG9S+c8Ig0o2m+3K7SX3O4emFEeXUNDHguUyMCgAqcUy0r3BCEnODoulRBu+5P4HwIlEwQfpA9n4+i5tLGuyt3zjh2bM+MkzP5I5Obj8PS1E1c5bkkBMPX9os8ytaG9Se/YL/ZXrlj6NXr4e7rBn/6vlNZBAyArajqeKOYKXfrH+l4GaRcOHcEDLNSHsrC2cdiEBGkq0zWWHDv1FeG15m/8cR90Qu9GCyMj78PEqLLqx1cCST9RXLBS1yd25zax7KPmu6HilgxpLmk0/h3CBE77gP+LDBccXBot+I3Hu618uofgYQ3OL8AyaBJB7Grev+jXAZIn0Ue4Q4AZ7OWnv/KzddGTEEZKWF9ETdIa2dfKp2WkTMLQ6owUozKrMuIZVQMb/XECFw++G9IThewIvuysGcIa7GsYNTX3LiEJi+WW3WnsGAmaL+dJszzYDX3bI7oit/XdXR/tUo9fBEa6Df7KIKPJqILKn/MtHAA1LS5iEyIA+P1tBhMVax+/D9DhlLRTqnvFnfJqH984iS0wBvrk1t5y7hsN2TPPSLs01gP600C3JrsW6BIpeVbIXGQ+RwOLw/uj9K/M0h/7TCFWNF4oCw6d/lH/uQkSGawf7Qjp106vYqy+y3L54COPN3ImYv8a5HXjRPb4FkQ7H0ejKb/1lchYslnABvZcN65dRlv2NC31ZLhYobizCNnlAi4oAjZuJZkL4v4NAZQMCxyRHo8B4879qmauWNKrAoQspTuLJfz8AuMB5Fz4FxoSPYhF8yUk88vIirXYxT/7yDgPWr1TIyt37Mq1H6bfu9/g6wg2Ksoyoh/kBlP8UwBxDXAduh7G/xvMuKiorRjTigMxLK86DCVa/GThIOKc9m8XRDm5QQkj0PEUyo+5zcrQ/vY5C1m2UJIm7+cEs2ClL7wk4YsIpil8MzgiFApI/gwAwgoPGV4aVv0YzKWpFa6N07oEDi6yPlEsagMi5MTh0PVmFTE2gkGEJ5745tBzvqHKZPmTNHpY0VR7LSnwT7k2ps63hdrVAcskWjNDJ3EQIQIAAeoJuxdDG20CVtKoqm6n1cgM+jUmkj6vNoQRMOzw4SvwPQmiJik4LilHATLc4sinzcbxVyhNTwJRfy+m9w/B2aehs/bUcfx8IAY04C3OFnECCPx1AsQP9xeVCY7gS7Repeu97+tyGWk6ckACIiv2ROIg6+P+sBhgMWcwKhCa6vPSAc1j4nkTMkNxUkE8JQx31CevSK3Lx1Pt6xIHLyw1rCNCCwz+U/+UCf8UpRIu9RnHBalqsXrXCwUPLqFF1zf8Cz3qzeYv8gQEgR6cLvYfpP+p5FDVQdk1+y0sEUomRKQgL+2ivq+sVrxy3YEBgyKJNQ8v2RarAt38RgGKC14ThAag3ha0aqfFvuXomBeQP35JzimH/SboU+hD8OoD8B4WKGQWqvva5dTaX+eSDoQ39kT6MPkFatOGsDOwn8yU8ZkUXzC2N9wk/AjU+KD31ABREAsXjQGk1H6vv6rtxGPxECVMSwNKRCQH/d/p5OPa6FYA6x1sJ4kYUwGr7KfiIvEHF+Y4az2CI7j23cdYr3+6PtyMAbgjwTrbNxEcEv7s747yEQL2FbYZ3P3hzjqr4KbVwpb2FTG3VblOHCaR+u7dr9GA2tf6CSDTLy8lKQ0w83rjCe42EawxizZKHRHxOMVTsqvBJeSHCKYoJztUMk4SJPNJ5+/vKwZMHU8h1gQe0u6lHpqpt//0gjgfYlNe9zON/D3QEr2nyZLxwB8fOmg2zxxg+4Di+eMxAvclxzLqHnj0dMkrtovDYeWlC84sSD1VMaUOKO3u4IPsVAcCJCMvJhd830+l94p5oWTh7C4ZZ7FxC0xBCbbJOqrDtOLfURczQoFMKzSDCXzjl9a161IUcDCIKTAE/tcdveO/Yd1OB5ArbTs3MK4OIenX1qThqwCWJKs7IjB2+iy0GYagiBy82A0hW/9/jGy+K7zcdqUFniXD0/5AOL5YKFH4JrTzgNKc0q/yoRwQMDkeyPWD0OvAy84A9KkbGDGNLgUZvvnz4DjfSvZkGUQ3Jzw/Gj3c46GChqSWqNKiJg9rFn8BXc0VWcivmGWc1MtDDKZDBF+oU6knZvPl0Q3Rsu2HFKUpbx1o+8zc9NEQ3vT6/RcMI9wZQAgN9/rpOekK/HAaizBNL9kT4+R/so+UGJ6iztQSllA3b9texSQG3eCokpx8ujL0fS9VVJBYgT47EQnl5M/b2VL3kRJUGusLffN24uTjsPVkCgIUoQ9pBbj8RPWc7+3zmgZmHQUp/iE2Byrd1bRfpXC4huQBGdFFF1n2RBEQ69U+sQiuo8xjAbYzSk6zTbE3lBJH7cDbCOLN8s8CcQwkCTz7pvK7+CcE7QhABjoACPmB87DyAvYV/bsKjBwNJ1khDQzX66TJ77UtvlrfUwn8K1085zJsEBfmN8ydzKffu/yAHS81cTlrL/ofaQsa9cnocepN8ob6NAEwA58BlQJ2Bd8CYfo485bvnu368TcA4A6sFO0WcBvhGu4NtfgS4vjOjMft0WXohv4CDc4SGRDqBqL9Wfr8+4/9FP9WBDMN4xbXIEwoMCa1GDcG/fMC5ZDfXOca9jsDFAxmDocF9/PY5R/kbe7IAXQY9iXJIfESkQbrAJX+5/v29GjmP9SGyffNv99e99MNHB8DKRIpzR13CfXwENs101XkBQuyNOZP8FMOPQARpuInxJG7ZsgG5q8GVRo3G7UNiPo+7SDvk/5vELwaqxlIDUf73fD49okFNQ2MB2r0qtXzuIK0dc/v+W4fMjSmM3YgewVr7o/hi+G47m8FEh/kMxY8ZzQfIhENifcU4onS+s5G1oLklPeCCg4WXRlJGXsX0hGMB0H6LO4F6oLwavz5B3gRDRXVDBb6y+RF0yjLCdSY7qEOryN8JEETkPuS62Xse/37FMEl9iZ/GI0DU/Xq9E8ACRJUIVwhpwyn7HLPdb8Txpjm3hO3NzxEjDfCF4rylde3zn7XDu6fCTEcGByZDD/5Ruty5trqK/Sn+t35NPXf8/n4HAELCLQMRw4QDG4JFgpkC5IJbgaPA3P/Uv3KAqcMoBOIFj4ThwJR5pzOUMrs3Kj/7yJUNRgwdRlf/NDjCNkf3k3srPt0CNkO7Ap7AEL51/iE+6/+6P9X+fzqS+Ez6B/9uxPbIWciexTv/lHwn/LLAFUPuRdwFSEGUfNO7NvzBQIZEk8eahoIBFTq0NqB13jiqfwGGeUliSBMEXL+wu3x5S3nhe30+NsHChFJDksFLv6Y+bb1afMl8rrvf+/Q+E0LDhw/IQsaUwl88qbfTN8H9EoP5SCNIh8Uy/oj5XbiD/TPDmwm6y5mHlH5H9OJvV3BA+HvEP02XUBRL4wPG+0+1ojUwuMA+ToNExvSGuMJufJB5aXo4fjdDOwYDRT1AbTwQerK7tP5jQXbC8MJGgLq++f9oggpFKoWCQ1v+1LqneT98LEJfCDHKq0kUQ1G6jTLEsHv0cL2fh8COSs4LSKSBbXtJOEO45vurPnJAGkGygf3ANX4oPnoAYsJwQzYCPb6v+lB4+DsGf+dEFAcdx2WEM36T+i14bboCPtMED4cIxk2Cqv2numG7ef/NROsHSIbewil6z/WV9V652EEGSHKL4YpbxQg+ynmNdys3uvoZPYZBNQMxQsWA9n67/mxAZoNXBVQEff/BulN2jneRvPgDbghVCa3F+76QN8G01Daz/IcFckvejE1G7X8LeQX3KfqiAcrHz0lHBmn/ufgrtH72cLyIBAPKOYvdSLmB8LtBdwK1ybhdPXRCXYXKRuoEXD9x+t56iT6ag94HRkbfwV85jbSntbA7wEP/yaTLf0dnwBb5xndsuDL7ksE3RcHHswV4wdo+vLvn+6d+R8HtQrjBCv9n/YF9P75KwYEEC0U+hPwDGv9gu3M54LtZ/kjB4IRFxK2CBD8nPBP6APqNfvkEwMlhiYvF+L5rdurzwvdzvi9EoEh2CFCE9T7zOg545/ou/Ld/lgLhhSfFh8RJgdW/IXzh/Cu9fH+VAa8C4gQwBDaCbAAjPlj9MjzzPkXAOIAcwDUAmMEdAOaAqv/7/de8Xrx2vNN9cD7AArGGFMg5Bx8CzfvPdYdz8LbnvIkCG0VuhhcE14JPgDZ+b3z7u3G7DvzjwBcEese5iHUF/8Dd+7s4kbo9PjXCsUYhx2PEiz78eRJ2vjdL++mBzsbWyEJGw8OoP/68j7pzONb5lLy/QHVDQYUgBb+FXwSTwxQAsHy2+Ac1l/aQ+wwAyQXjiNzJBwY9gTz9abv8O8p9Tj9jwPMB40OrxYCGBsP/f8471niCeGs7Bj+fw+zHE0cnQmd74XcJNYJ4a/+fyADMusu3x6rBoLs9NsH2uXhJPBUA90SZBVND30MtQ62DvwILf2A6UvTK8oi2Kv2yResMAs5zyvpDvDyBuU75vrxvQKCDnELmPyX8PvwAPtSCJMTYBQJBYfth9353BHrPwWeItswAyX0CK/t4Nw+3sT1gxZgK9gspx75A1zlKdJu0Kzaru7eCiwhDiNFFRwG3fog9KP0Evka+OTwpeyz8Cr6xAUwEosb5BxzFqcMSgJ/+HbxEe417GLrK+9x+swKKhkwHnUXkAc08rDdO9V13wD2jA5AIosnwxdV/VfpfOFJ52z9mRghJC4cVwxT+q7ocuDC5M3s7PMg/SUFtwWcA/IGjgziDVcMkwjH/FzqJ98D5cj3vQ7RJLIzuzEmHQkCn+104zDjPOwj+Dj+zP1p++T58fxXB84S8RR0Cp723OAQ1rLfk/h6E74mJivkHLkDQ+4R5QrqQPsiD5oZWBh3EJIE7vaw7MPnmeZb65z4cAjNEekTRBPGEHULJwV4/yX5nfKz8IL3nAT2EBEYtRhuEH7/De+s6EnrJ/Gt+NP/PgGt+2/0H/EZ9dMBXxIfG8wUcgIM693XF9cI73QRtCqoM1wqnQ3+6QLV59V85Zz+CRu0K8UmAxPx+2PnWtpO2jnmP/csCDsVfxhFEFAFWgH4A6UHOwnmBMf3N+lF5gTyTQSIFekgXx99DV31TeaL5FLrwvf0BU0MvQXo+c3yM/Jm994DdBJPFjsKOPaA5IPcv+R2/EEXBCgMKp8cJgLB5a3VY9jJ7F4MMig3MGYiCwne7XTZWtVQ4gb2igh1Fx0c8RDG/+L4Iv/LCqAVgRciB3Pq1NaU2SfuFQswJ8gzUSWOA4PjRdOm1RDpTgXOGXgaygp19hrmEuDm6fwAPBhbIu4agAUi657Zt9yL8woQxSNVKRog/AlY8Yrj6OOo79MFTh4PKH0c9wWg72nfedwo6TX8zgtVFcgVRArm+iz2AgBBDycZMRZKAkrkks+o0wjuKhCjK+M0VSVCA8zheNJ02XfwlAxzH+odagrQ8oHjQuFa69P9lhInIUkgXQ7F9H/eSdMk28P2WBb1KHQtOyYAEIHyyeC74PfqP/02E+AcBhPMASb0I+yT7rj85QkyDOEJGwg6AQT3hPboAdQM+g9PDPv/R+uU2h/czu8gCVEcOSN1GlMEZ+1K427nXfN/AmcONA4CA5f4kPVD92r7CwEiBAcDugHfANn7ufNW77rw6PYpBLAWmyNPIzEZIAo8+Jzpq+Xv7E/7cQv5FEoSAQjR/j36aPlx+vv6LPrr+YX7g/3u/nkBaQb+C0QPxg1DBTj20ec05NHurwBUDwoWbxUuDbH+mfK08Df2kPz+ARwFmAKr/Kb6tv5kBI0H3QVw/h31GPCw8FH1kf6pCYAOVws8BysFUQL+AFgF3Ql7Bnr9bPUW8O7vxfkIChUVhhXUDswDjPZT7X/sbfGg+TMFrA6FDcoDjvyF/FIAUwZLDAoKgvwZ7pzpv+5a+cYHJBWeGNIPoAK4+Bby+O0N8Iv4pQDXBJgIZwzfC44GqP8Q903saOVR6ur5mgo0FfoXTxF/Ao/1/vNr+ycF1w6CE+MLhvti7jXqWO+X/mMRyxn1EsIE0faM7QfumvccAcYE+QQiAjz6hPOj9+0EHxJYGpcZPQnn7FTWJNNh4m79IhziMMIvjRqI/QnkJNat2cbsjwRRFkcdwhhgDLD/6ffx9En0O/JQ7EbnB+xF+0QMCBgBGx0RlP3m7W/q1u+X+9UMmxnyF2wM4P+48+Trm/Bt/k0JOw/bExMTWQqmAPj4mO/O6EbtS/kXAmcG8gpoDvUMZgjjAi/59uub5fbscfxMDKgZRR8YFtoBtu/F5hvmHO76/ZkNGRV6FOwOdQZO/t35rvct88DrrOV+5TbvzQTHHoAtoSc3EHfwvtUez6rgMP90Ha4ycjVlIZ8Aj+OZ1DjYYe2UCUUeDySlHHUNlfwm77fnSeeu7rD7sAbbCLcEiwLgBOsH1wkyCo0E9fZw6kvqN/aaBdYSQhoWFiMGr/Rj60Pro/LJ/z4M3xDXDlQLdQYq/873FfH/6UXl8eUm65316AfCGycjNRlIBojyXOIt3kzsVgTFFxQinSNmGG0B0epC36Tgo+4cBkgbZyKRG4ANT/wj7AHkA+c58aL9Zgh2DDgIWgLBAV8FTwnRC+AICvxB63Hkvewp/N0K7xaiGy8SWf+a8RXvlfNH/eUKuBMLEb0Hvv5P9/LyWvRI+WT8UPuo9r/wUO7G8y0AvAzLEtUQ8wdM+jbvcO9d+T4EnA7PGfwcJhDZ+7zsA+Wb5lv35BDRITMj8BkeCAfxOuHS4A7qWvc9CKcURhLABsP/xf9GA7oKBhFwCjT3COaw4IflPPKaBZgX7xxSFKcGu/rF8lLy8/nyAasDVwE+/7j9pvxa/W//LACX/en3tvB26sbobe+H/3wTVSACIIMVWASZ7xPilOby+PENyyAaKzkhZAS15nXWHNeH6poLfic3Li8h4wma8BPfDt0x6AH41AZ3EE4PiARu/CYAlgrBEkQVLw7U+aLggNPt2ZTtzQVcHCwoniFcDqP8bvJa7bXuP/h2AlQFcARYBW8EUv8Z/I38QfpW9Bvwvu3662LvzvnABTEQHhnyGokQPP+C7+XkI+SZ8mkKqx38JM4few6j9trkhOId7wcEXxiaIqIdMw2U+iHuxOt+8Qj5wf1ZADgCRgHM/V7+bQYwD90QCgvz/tfswdsZ2MXlZPyhEsMjySkNH9wI6/SH6sboP+8y/CoI+gwtC3MF6f0C+Ij2Efhs+ZT5fPja9ZrzW/Vn+/EBCgcxDNIPNg05Bd784/SB7mnx3f9nDxkYuBuKGMwJi/an61TrmfI/AxEZkCTdHQMOSv6s73rldeUb7V32bQH+DKUQ8AoTBmgGdwWDAYX++vgQ7LbgQeTY9CQGexMBHuMfqhM6Atb3iPOP8HvyiPo1AOH+v/xo/nMAswAHAj4EigE/92zqnOJm5O/vugDCDoITNRASC0oGKgFW/pr+3/zQ+Jv66gOoC9UOrBIpFKgLBP7C9Rj0uPfmAtsQnBamEXMHEfuJ7qvm/uUi64n1/wPqD34ScA3fBuEA4/sx+hb7yfnh9DzxrvMi+4cDNAwPFSAY9g/rAVH32/BE7Lrt+/bn/1UD3gWFCNsFKv/P+s33S/Kr7aXu7PNb+/4Epw3hDogHfP4v+zj/XAd/DyATtw1eAGL0DfKG+OADvRKeH40g2RNAAivzHerh6x/5awixD3gNiATE9/jsHurj7kn3ZQHXCrANjwb3+mT05/YJAJsLsxOREMYASe7V5FbnQPO6BrMbhyXZHZcM1ft87tTnjOyU+LQBTwQ3A3f/2/mn9jf4WvtH/B/6jPXb8Cnw4vU7ALYKChE6EfwLywQwABf/8v61/80CcwUbBV0F2AiHC2cLfAy1DnwLhgHb9/DyyvEh9c79wQYWCksIPAQg/gH3UfJC8Y3ygfbT/MUB3APOBrkLsw3lCQ4DkvpL737lDeba8bL/VQqsE7EY/hKGBnv9/fhK9Mbw5vGf9Fb16PZI/NwCvge2ClMKWgST+sbxWO0A73n3NQTiDo4Shg9ACKr+wPaL9hH/CArYETsVxhGRBS73gfA88yn83gkRFxsaFREEAwH1cepR6tj2oAbID1MRpgyXAbD0re2p7lf1mwCQDOcQUAv0AmT91/m0+AD8o//v/Jz1YPEJ8wn4Vf9tCdgSDBWuDukERfpo7bHiIeL16h32UwKVEBYashcqDWoCUfm58dDuTvIZ+aD/IAWVCeQLwguNCpgIuAR3/0f7nPkn+48Ajwf4CigIcQFo+sX1hfbe/QEIKQ+XEL4LAAGv9Lrt/u4s9i4A9AldDyoOiwi/AbL6C/Qe8JDwuvTl+gkB+gTpBTEF/gNuAav8FffX8vzwaPJX+HcBRQl1DOgK+wSh+xfzFfCy8kz4+v+kCFcObw4iCw8HMAK8/Zr8J/6R/vn82fuR/Dj/hgTKC/sQoBCIC1IEkfxn9tf0OPjN/SUD7gYVCNIGlwRbAuwATAGiAqkCXAHZAKgBowLDA4MFlQZXBTgCbP45+kn2b/TP9dz5O//QAwEFIAIV/ZL3pfKm8Jjzu/mR/y4EFwi/CVgHNwL+/H/4ufT68vL01fmm/u8BkgSJBnYGnwQCA1cCnAGkAIMAHAH8ABkA6v/vAKcC2wQUB8YHiQXPAKD70veV9gT5/f6dBXIJxgnAB+QDLP89/JT8a/6r/2cA8wCNAIX/o/9pAZUDNgUEBoIFswM7AUX+Kvtx+br5d/rc+nD8z//6ApcEWgUiBX0C8P0b+mz4qPj3+hb/twKZA/wBVv+C/Gf6MvrU+/T9ov9vAMD/8f3V/E79aP6h/3sBaQPcA9QCBgI9ArcC/gIUAzICxf8G/c/7i/yt/toBCQUhBjIEpgBW/Uz7avvt/WYB1wOEBMID0QEi//z8bvwT/SX+a/9uAIwAMgBgABwBvwHeARMBDf9r/JP6lfqg/BAAfwMzBQAAAAAAAAAAAAAAAAAAAAAAAAAAAAAAAAAAAAAAAAAAAAAAAAAAAAAAAAAAAAAAAAAAAAAAAAAAAAAAAAAAAAAAAAAAAAAAAAAAAAAAAAAAAAAAAAAAAAAAAAAAAAAAAAAAAAAAAAAAAAAAAAAAAAAAAAAAAAAAAAAAAAAAAAAAAAAAAAAAAAAAAAAAAAAAAAAAAAAAAAAAAAAAAAAAAAAAAAAAAAAAAAAAAAAAAAAAAAAAAAAAAAAAAAAAAAAAAAAAAAAAAAAAAAAAAAAAAAAAAAAAAAAAAAAAAAAAAAAAAAAAAAAAAAAAAAAAAAAAAAAAAAAAAAAAAAAAAAAAAAAAAAAAAAAAAAAAAAAAAAAAAAAAAAAAAAAAAAAAAAAAAAAAAAAAAAAAAAAAAAAAAAAAAAAAAAAAAAAAAAAAAAAAAAAAAAAAAAAAAAAAAAAAAAAAAAAAAAAAAAAAAAAAAAAAAAAAAAAAAAAAAAAAAAAAAAAAAAAAAAAAAAAAAAAAAAAAAAAAAAAAAAAAAAAAAAAAAAAAAAAAAAAAAAAAAAAAAAAAAAAAAAAAAAAAAAAAAAAAAAAAAAAAAAAAAAAAAAAAAAAAAAAAAAAAAAAAAAAAAAAAAAAAAAAAAAAAAAAAAAAAAAAAAAAAAAAAAAAAAAAAAAAAAAAAAAAAAAAAAAAAAAAAAAAAAAAAAAAAAAAAAAAAAAAAAAAAAAAAAAAAAAAAAAAAAAAAAAAAAAAAAAAAAAAAAAAAAAAAAAAAAAAAAAAAAAAAAAAAAAAAAAAAAAAAAAAAAAAAAAAAAAAAAAAAAAAAAAAAAAAAAAAAAAAAAAAAAAAAAAAAAAAAAAAAAAAAAAAAAAAAAAAAAAAAAAAAAAAAAAAAAAAAAAAAAAAAAAAAAAAAAAAAAAAAAAAAAAAAAAAAAAAAAAAAAAAAAAAAAAAAAAAAAAAAAAAAAAAAAAAAAAAAAAAAAAAAAAAAAAAAAAAAAAAAAAAAAAAAAAAAAAAAAAAAAAAAAAAAAAAAAAAAAAAAAAAAAAAAAAAAAAAAAAAAAAAAAAAAAAAAAAAAAAAAAAAAAAAAAAAAAAAAAAAAAAAAAAAAAAAAAAAAAAAAAAAAAAAAAAAAAAAAAAAAAAAAAAAAAAAAAAAAAAAAAAAAAAAAAAAAAAAAAAAAAAAAAAAAAAAAAAAAAAAAAAAAAAAAAAAAAAAAAAAAAAAAAAAAAAAAAAAAAAAAAAAAAAAAAAAAAAAAAAAAAAAAAAAAAAAAAAAAAAAAAAAAAAAAAAAAAAAAAAAAAAAAAAAAAAAAAAAAAAAAAAAAAAAAAAAAAAAAAAAAAAAAAAAAAAAAAAAAAAAAAAAAAAAAAAAAAAAAAAAAAAAAAAAAAAAAAAAAAAAAAAAAAAAAAAAAAAAAAAAAAAAAAAAAAAAAAAAAAAAAAAAAAAAAAAAAAAAAAAAAAAAAAAAAAAAAAAAAAAAAAAAAAAAAAAAAAAAAAAAAAAAAAAAAAAAAAAAAAAAAAAAAAAAAAAAAAAAAAAAAAAAAAAAAAAAAAAAAAAAAAAAAAAAAAAAAAAAAAAAAAAAAAAAAAAAAAAAAAAAAAAAAAAAAAAAAAAAAAAAAAAAAAAAAAAAAAAAAAAAAAAAAAAAAAAAAAAAAAAAAAAAAAAAAAAAAAAAAAAAAAAAAAAAAAAAAAAAAAAAAAAAAAAAAAAAAAAAAAAAAAAAAAAAAAAAAAAAAAAAAAAAAAAAAAAAAAAAAAAAAAAAAAAAAAAAAAAAAAAAAAAAAAAAAAAAAAAAAAAAAAAAAAAAAAAAAAAAAAAAAAAAAAAAAAAAAAAAAAAAAAAAAAAAAAAAAAAAAAAAAAAAAAAAAAAAAAAAAAAAAAAAAAAAAAAAAAAAAAAAAAAAAAAAAAAAAAAAAAAAAAAAAAAAAAAAAAAAAAAAAAAAAAAAAAAAAAAAAAAAAAAAAAAAAAAAAAAAAAAAAAAAAAAAAAAAAAAAAAAAAAAAAAAAAAAAAAAAAAAAAAAAAAAAAAAAAAAAAAAAAAAAAAAAAAAAAAAAAAAAAAAAAAAAAAAAAAAAAAAAAAAAAAAAAAAAAAAAAAAAAAAAAAAAAAAAAAAAAAAAAAAAAAAAAAAAAAAAAAAAAAAAAAAAAAAAAAAAAAAAAAAAAAAAAAAAAAAAAAAAAAAAAAAAAAAAAAAAAAAAAAAAAAAAAAAAAAAAAAAAAAAAAAAAAAAAAAAAAAAAAAAAAAAAAAAAAAAAAAAAAAAAAAAAAAAAAAAAAAAAAAAAAAAAAAAAAAAAAAAAAAAAAAAAAAAAAAAAAAAAAAAAAAAAAAAAAAAAAAAAAAAAAAAAAAAAAAAAAAAAAAAAAAAAAAAAAAAAAAAAAAAAAAAAAAAAAAAAAAAAAAAAAAAAAAAAAAAAAAAAAAAAAAAAAAAAAAAAAAAAAAAAAAAAAAAAAAAAAAAAAAAAAAAAAAAAAAAAAAAAAAAAAAAAAAAAAAAAAAAAAAAAAAAAAAAAAAAAAAAAAAAAAAAAAAAAAAAAAAAAAAAAAAAAAAAAAAAAAAAAAAAAAAAAAAAAAAAAAAAAAAAAAAAAAAAAAAAAAAAAAAAAAAAAAAAAAAAAAAAAAAAAAAAAAAAAAAAAAAAAAAAAAAAAAAAAAAAAAAAAAAAAAAAAAAAAAAAAAAAAAAAAAAAAAAAAAAAAAAAAAAAAAAAAAAAAAAAAAAAAAAAAAAAAAAAAAAAAAAAAAAAAAAAAAAAAAAAAAAAAAAAAAAAAAAAAAAAAAAAAAAAAAAAAAAAAAAAAAAAAAAAAAAAAAAAAAAAAAAAAAAAAAAAAAAAAAAAAAAAAAAAAAAAAAAAAAAAAAAAAAAAAAAAAAAAAAAAAAAAAAAAAAAAAAAAAAAAAAAAAAAAAAAAAAAAAAAAAAAAAAAAAAAAAAAAAAAAAAAAAAAAAAAAAAAAAAAAAAAAAAAAAAAAAAAAAAAAAAAAAAAAAAAAAAAAAAAAAAAAAAAAAAAAAAAAAAAAAAAAAAAAAAAAAAAAAAAAAAAAAAAAAAAAAAAAAAAAAAAAAAAAAAAAAAAAAAAAAAAAAAAAAAAAAAAAAAAAAAAAAAAAAAAAAAAAAAAAAAAAAAAAAAAAAAAAAAAAAAAAAAAAAAAAAAAAAAAAAAAAAAAAAAAAAAAAAAAAAAAAAAAAAAAAAAAAAAAAAAAAAAAAAAAAAAAAAAAAAAAAAAAAAAAAAAAAAAAAAAAAAAAAAAAAAAAAAAAAAAAAAAAAAAAAAAAAAAAAAAAAAAAAAAAAAAAAAAAAAAAAAAAAAAAAAAAAAAAAAAAAAAAAAAAAAAAAAAAAAAAAAAAAAAAAAAAAAAAAAAAAAAAAAAAAAAAAAAAAAAAAAAAAAAAAAAAAAAAAAAAAAAAAAAAAAAAAAAAAAAAAAAAAAAAAAAAAAAAAAAAAAAAAAAAAAAAAAAAAAAAAAAAAAAAAAAAAAAAAAAAAAAAAAAAAAAAAAAAAAAAAAAAAAAAAAAAAAAAAAAAAAAAAAAAAAAAAAAAAAAAAAAAAAAAAAAAAAAAAAAAAAAAAAAAAAAAAAAAAAAAAAAAAAAAAAAAAAAAAAAAAAAAAAAAAAAAAAAAAAAAAAAAAAAAAAAAAAAAAAAAAAAAAAAAAAAAAAAAAAAAAAAAAAAAAAAAAAAAAAAAAAAAAAAAAAAAAAAAAAAAAAAAAAAAAAAAAAAAAAAAAAAAAAAAAAAAAAAAAAAAAAAAAAAAAAAAAAAAAAAAAAAAAAAAAAAAAAAAAAAAAAAAAAAAAAAAAAAAAAAAAAAAAAAAAAAAAAAAAAAAAAAAAAAAAAAAAAAAAAAAAAAAAAAAAAAAAAAAAAAAAAAAAAAAAAAAAAAAAAAAAAAAAAAAAAAAAAAAAAAAAAAAAAAAAAAAAAAAAAAAAAAAAAAAAAAAAAAAAAAAAAAAAAAAAAAAAAAAAAAAAAAAAAAAAAAAAAAAAAAAAAAAAAAAAAAAAAAAAAAAAAAAAAAAAAAAAAAAAAAAAAAAAAAAAAAAAAAAAAAAAAAAAAAAAAAAAAAAAAAAAAAAAAAAAAAAAAAAAAAAAAAAAAAAAAAAAAAAAAAAAAAAAAAAAAAAAAAAAAAAAAAAAAAAAAAAAAAAAAAAAAAAAAAAAAAAAAAAAAAAAAAAAAAAAAAAAAAAAAAAAAAAAAAAAAAAAAAAAAAAAAAAAAAAAAAAAAAAAAAAAAAAAAAAAAAAAAAAAAAAAAAAAAAAAAAAAAAAAAAAAAAAAAAAAAAAAAAAAAAAAAAAAAAAAAAAAAAAAAAAAAAAAAAAAAAAAAAAAAAAAAAAAAAAAAAAAAAAAAAAAAAAAAAAAAAAAAAAAAAAAAAAAAAAAAAAAAAAAAAAAAAAAAAAAAAAAAAAAAAAAAAAAAAAAAAAAAAAAAAAAAAAAAAAAAAAAAAAAAAAAAAAAAAAAAAAAAAAAAAAAAAAAAAAAAAAAAAAAAAAAAAAAAAAAAAAAAAAAAAAAAAAAAAAAAAAAAAAAAAAAAAAAAAAAAAAAAAAAAAAAAAAAAAAAAAAAAAAAAAAAAAAAAAAAAAAAAAAAAAAAAAAAAAAAAAAAAAAAAAAAAAAAAAAAAAAAAAAAAAAAAAAAAAAAAAAAAAAAAAAAAAAAAAAAAAAAAAAAAAAAAAAAAAAAAAAAAAAAAAAAAAAAAAAAAAAAAAAAAAAAAAAAAAAAAAAAAAAAAAAAAAAAAAAAAAAAAAAAAAAAAAAAAAAAAAAAAAAAAAAAAAAAAAAAAAAAAAAAAAAAAAAAAAAAAAAAAAAAAAAAAAAAAAAAAAAAAAAAAAAAAAAAAAAAAAAAAAAAAAAAAAAAAAAAAAAAAAAAAAAAAAAAAAAAAAAAAAAAAAAAAAAAAAAAAAAAAAAAAAAAAAAAAAAAAAAAAAAAAAAAAAAAAAAAAAAAAAAAAAAAAAAAAAAAAAAAAAAAAAAAAAAAAAAAAAAAAAAAAAAAAAAAAAAAAAAAAAAAAAAAAAAAAAAAAAAAAAAAAAAAAAAAAAAAAAAAAAAAAAAAAAAAAAAAAAAAAAAAAAAAAAAAAAAAAAAAAAAAAAAAAAAAAAAAAAAAAAAAAAAAAAAAAAAAAAAAAAAAAAAAAAAAAAAAAAAAAAAAAAAAAAAAAAAAAAAAAAAAAAAAAAAAAAAAAAAAAAAAAAAAAAAAAAAAAAAAAAAAAAAAAAAAAAAAAAAAAAAAAAAAAAAAAAAAAAAAAAAAAAAAAAAAAAAAAAAAAAAAAAAAAAAAAAAAAAAAAAAAAAAAAAAAAAAAAAAAAAAAAAAAAAAAAAAAAAAAAAAAAAAAAAAAAAAAAAAAAAAAAAAAAAAAAAAAAAAAAAAAAAAAAAAAAAAAAAAAAAAAAAAAAAAAAAAAAAAAAAAAAAAAAAAAAAAAAAAAAAAAAAAAAAAAAAAAAAAAAAAAAAAAAAAAAAAAAAAAAAAAAAAAAAAAAAAAAAAAAAAAAAAAAAAAAAAAAAAAAAAAAAAAAAAAAAAAAAAAAAAAAAAAAAAAAAAAAAAAAAAAAAAAAAAAAAAAAAAAAAAAAAAAAAAAAAAAAAAAAAAAAAAAAAAAAAAAAAAAAAAAAAAAAAAAAAAAAAAAAAAAAAAAAAAAAAAAAAAAAAAAAAAAAAAAAAAAAAAAAAAAAAAAAAAAAAAAAAAAAAAAAAAAAAAAAAAAAAAAAAAAAAAAAAAAAAAAAAAAAAAAAAAAAAAAAAAAAAAAAAAAAAAAAAAAAAAAAAAAAAAAAAAAAAAAAAAAAAAAAAAAAAAAAAAAAAAAAAAAAAAAAAAAAAAAAAAAAAAAAAAAAAAAAAAAAAAAAAAAAAAAAAAAAAAAAAAAAAAAAAAAAAAAAAAAAAAAAAAAAAAAAAAAAAAAAAAAAAAAAAAAAAAAAAAAAAAAAAAAAAAAAAAAAAAAAAAAAAAAAAAAAAAAAAAAAAAAAAAAAAAAAAAAAAAAAAAAAAAAAAAAAAAAAAAAAAAAAAAAAAAAAAAAAAAAAAAAAAAAAAAAAAAAAAAAAAAAAAAAAAAAAAAAAAAAAAAAAAAAAAAAAAAAAAAAAAAAAAAAAAAAAAAAAAAAAAAAAAAAAAAAAAAAAAAAAAAAAAAAAAAAAAAAAAAAAAAAAAAAAAAAAAAAAAAAAAAAAAAAAAAAAAAAAAAAAAAAAAAAAAAAAAAAAAAAAAAAAAAAAAAAAAAAAAAAAAAAAAAAAAAAAAAAAAAAAAAAAAAAAAAAAAAAAAAAAAAAAAAAAAAAAAAAAAAAAAAAAAAAAAAAAAAAAAAAAAAAAAAAAAAAAAAAAAAAAAAAAAAAAAAAAAAAAAAAAAAAAAAAAAAAAAAAAAAAAAAAAAAAAAAAAAAAAAAAAAAAAAAAAAAAAAAAAAAAAAAAAAAAAAAAAAAAAAAAAAAAAAAAAAAAAAAAAAAAAAAAAAAAAAAAAAAAAAAAAAAAAAAAAAAAAAAAAAAAAAAAAAAAAAAAAAAAAAAAAAAAAAAAAAAAAAAAAAAAAAAAAAAAAAAAAAAAAAAAAAAAAAAAAAAAAAAAAAAAAAAAAAAAAAAAAAAAAAAAAAAAAAAAAAAAAAAAAAAAAAAAAAAAAAAAAAAAAAAAAAAAAAAAAAAAAAAAAAAAAAAAAAAAAAAAAAAAAAAAAAAAAAAAAAAAAAAAAAAAAAAAAAAAAAAAAAAAAAAAAAAAAAAAAAAAAAAAAAAAAAAAAAAAAAAAAAAAAAAAAAAAAAAAAAAAAAAAAAAAAAAAAAAAAAAAAAAAAAAAAAAAAAAAAAAAAAAAAAAAAAAAAAAAAAAAAAAAAAAAAAAAAAAAAAAAAAAAAAAAAAAAAAAAAAAAAAAAAAAAAAAAAAAAAAAAAAAAAAAAAAAAAAAAAAAAAAAAAAAAAAAAAAAAAAAAAAAAAAAAAAAAAAAAAAAAAAAAAAAAAAAAAAAAAAAAAAAAAAAAAAAAAAAAAAAAAAAAAAAAAAAAAAAAAAAAAAAAAAAAAAAAAAAAAAAAAAAAAAAAAAAAAAAAAAAAAAAAAAAAAAAAAAAAAAAAAAAAAAAAAAAAAAAAAAAAAAAAAAAAAAAAAAAAAAAAAAAAAAAAAAAAAAAAAAAAAAAAAAAAAAAAAAAAAAAAAAAAAAAAAAAAAAAAAAAAAAAAAAAAAAAAAAAAAAAAAAAAAAAAAAAAAAAAAAAAAAAAAAAAAAAAAAAAAAAAAAAAAAAAAAAAAAAAAAAAAAAAAAAAAAAAAAAAAAAAAAAAAAAAAAAAAAAAAAAAAAAAAAAAAAAAAAAAAAAAAAAAAAAAAAAAAAAAAAAAAAAAAAAAAAAAAAAAAAAAAAAAAAAAAAAAAAAAAAAAAAAAAAAAAAAAAAAAAAAAAAAAAAAAAAAAAAAAAAAAAAAAAAAAAAAAAAAAAAAAAAAAAAAAAAAAAAAAAAAAAAAAAAAAAAAAAAAAAAAAAAAAAAAAAAAAAAAAAAAAAAAAAAAAAAAAAAAAAAAAAAAAAAAAAAAAAAAAAAAAAAAAAAAAAAAAAAAAAAAAAAAAAAAAAAAAAAAAAAAAAAAAAAAAAAAAAAAAAAAAAAAAAAAAAAAAAAAAAAAAAAAAAAAAAAAAAAAAAAAAAAAAAAAAAAAAAAAAAAAAAAAAAAAAAAAAAAAAAAAAAAAAAAAAAAAAAAAAAAAAAAAAAAAAAAAAAAAAAAAAAAAAAAAAAAAAAAAAAAAAAAAAAAAAAAAAAAAAAAAAAAAAAAAAAAAAAAAAAAAAAAAAAAAAAAAAAAAAAAAAAAAAAAAAAAAAAAAAAAAAAAAAAAAAAAAAAAAAAAAAAAAAAAAAAAAAAAAAAAAAAAAAAAAAAAAA==\" type=\"audio/wav\" />\n",
       "                    Your browser does not support the audio element.\n",
       "                </audio>\n",
       "              "
      ],
      "text/plain": [
       "<IPython.lib.display.Audio object>"
      ]
     },
     "metadata": {},
     "output_type": "display_data"
    }
   ],
   "source": [
    "IPython.display.display(Audio(signal, rate =sr))\n",
    "IPython.display.display(Audio(normalised, rate =sr))"
   ]
  },
  {
   "cell_type": "code",
   "execution_count": 34,
   "metadata": {},
   "outputs": [],
   "source": [
    "def centre_and_pad(signal, slice_len= 16384):\n",
    "    nsamples = len(signal)\n",
    "    l_pad = (slice_len - nsamples)//2\n",
    "    r_pad = slice_len - (nsamples + l_pad)\n",
    "    if len(signal) < slice_len:\n",
    "        padded_array = np.pad(signal,\n",
    "                              (l_pad,r_pad),\n",
    "                              mode = \"constant\")\n",
    "        return padded_array\n",
    "    else:\n",
    "        signal = signal[:slice_len]\n",
    "    return signal"
   ]
  },
  {
   "cell_type": "code",
   "execution_count": null,
   "metadata": {},
   "outputs": [],
   "source": [
    "#envelope features\n",
    "t, ae = amplitude_envelope(filtered, 128,64, sr)\n",
    "\n",
    "#normalise so sums of envelope values = 1?\n",
    "\n",
    "#temporal is amplittude envelope\n",
    "t_mean = np.mean(ae)\n",
    "\n",
    "#standard deviation\n",
    "temporal_duration = np.std(ae)\n",
    "\n",
    "#skewness\n",
    "from scipy.stats import skew\n",
    "t_skew = skew(ae, bias = True)\n",
    "\n",
    "#kurtosis\n",
    "from scipy.stats import kurtosis \n",
    "t_kurt = kurtosis(ae, bias = True)\n",
    "\n",
    "#entropy \n",
    "from scipy.stats import entropy\n",
    "t_entropy = entropy(ae)"
   ]
  },
  {
   "cell_type": "code",
   "execution_count": 28,
   "metadata": {},
   "outputs": [],
   "source": [
    "def RMS_energy(signal, frame_size, hop_length, sr):\n",
    "    rms_energy = librosa.feature.rms(y=signal,frame_length=frame_size, hop_length=hop_length)[0]\n",
    "    frames = range(0,rms_energy.size)\n",
    "    t = lb.frames_to_time(frames, hop_length= hop_length, sr = sr)\n",
    "    return t,rms_energy"
   ]
  },
  {
   "cell_type": "code",
   "execution_count": 14,
   "metadata": {},
   "outputs": [],
   "source": [
    "def ZCR(signal, frame_size, hop_length, sr):\n",
    "    zcr = librosa.feature.zero_crossing_rate(y=signal,frame_length=frame_size, hop_length=hop_length)[0]\n",
    "    frames = range(0,zcr.size)\n",
    "    t = lb.frames_to_time(frames, hop_length= hop_length, sr = sr)\n",
    "    return t,zcr"
   ]
  },
  {
   "cell_type": "code",
   "execution_count": 29,
   "metadata": {},
   "outputs": [],
   "source": [
    "def create_plots(signal, sr, window_length = 1024, save_dir = None, lw=0.6, fmax=6e3, font_size = 13, amp_envelope= True, plot_rms = True):\n",
    "    fmax = sr/2 #nyquist frequency \n",
    "    N = len(signal)\n",
    "    delta_t = 1 / sr\n",
    "    times = np.arange(0, N) / sr\n",
    "    signalf = fft(signal)\n",
    "    freqs = np.linspace(0.0, 1.0/(2.0*delta_t), N//2)\n",
    "    \n",
    "    fig, axs = plt.subplots(1,3, figsize=(20,5))\n",
    "    axs[0].plot(times, signal, linewidth=lw)\n",
    "    #axs[0].librosa.display.waveshow(code_1[1], sr=sr)\n",
    "    axs[0].set_xlabel('Time (s)', fontsize= font_size)\n",
    "    axs[0].set_ylabel('Amplitude', fontsize = font_size)\n",
    "    t_ae, ae = amplitude_envelope(signal,frame_size = 128, hop_length= 64, sr= sr)\n",
    "    t_rms, rms = RMS_energy(signal,frame_size = 128, hop_length= 64, sr= sr)\n",
    "\n",
    "    axs[0].plot(t_ae,ae, color = \"r\") if amp_envelope else None\n",
    "    axs[0].plot(t_rms,rms, color = \"r\") if plot_rms else None\n",
    "    axs[0].set_xlim(0,max(times))\n",
    "    #axs[0].set_title('Time Domain Representation')\n",
    "    #axs[0].xticks(fontsize = font_size)\n",
    "    #axs[0].yticks(fontsize= font_size)\n",
    "    \n",
    "    axs[1].plot(freqs, 2.0/N * np.abs(signalf[0:N//2]), linewidth=0.4)\n",
    "    axs[1].set_xlabel('Frequency (Hz)', fontsize= font_size)\n",
    "    axs[1].set_ylabel('Amplitude', fontsize= font_size)\n",
    "    #axs[1].set_title('Frequency Domain Representation')\n",
    "    axs[1].set_xlim([0, fmax])\n",
    "    #axs[1].xticks(fontsize = font_size)\n",
    "    #axs[1].yticks(fontsize= font_size)\n",
    "\n",
    "\n",
    "    f_bins, t_bins, Sxx = spectrogram(signal, fs=sr,\n",
    "                                 window='hann', nperseg=window_length,\n",
    "                                 noverlap=window_length-64, detrend=False,\n",
    "                                 scaling='spectrum')\n",
    "    im = axs[2].pcolormesh(t_bins, f_bins, 20*np.log10(Sxx+1e-100), cmap='magma')\n",
    "\n",
    "    axs[2].set_xlabel('Time (s)', fontsize= font_size)\n",
    "    axs[2].set_ylabel('Frequency (Hz)', fontsize= font_size)\n",
    "    #axs[2].set_xlim(0,1)\n",
    "    #axs[2].xticks(fontsize = font_size)\n",
    "    #axs[2].yticks(fontsize= font_size)\n",
    "    #axs[2].set_title(f'STFT with nperseg={window_length}')\n",
    "\n",
    "    # Add colorbar\n",
    "    cbar = fig.colorbar(im, ax=axs[2])\n",
    "    cbar.set_label('Amplitude (dB)',fontsize= font_size)\n",
    "    for ax in axs:\n",
    "        ax.tick_params(axis='both', labelsize=font_size-2)\n",
    "    \n",
    "    if save_dir:\n",
    "        plt.savefig(save_dir, dpi= 300, bbox_inches = \"tight\", transparent = True)\n",
    "    plt.show()"
   ]
  },
  {
   "cell_type": "code",
   "execution_count": null,
   "metadata": {},
   "outputs": [],
   "source": []
  }
 ],
 "metadata": {
  "kernelspec": {
   "display_name": "base",
   "language": "python",
   "name": "python3"
  },
  "language_info": {
   "codemirror_mode": {
    "name": "ipython",
    "version": 3
   },
   "file_extension": ".py",
   "mimetype": "text/x-python",
   "name": "python",
   "nbconvert_exporter": "python",
   "pygments_lexer": "ipython3",
   "version": "3.8.8"
  }
 },
 "nbformat": 4,
 "nbformat_minor": 2
}
