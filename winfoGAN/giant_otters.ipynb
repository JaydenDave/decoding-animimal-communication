{
 "cells": [
  {
   "cell_type": "code",
   "execution_count": 1,
   "metadata": {},
   "outputs": [],
   "source": [
    "import librosa as lb\n",
    "import os\n",
    "import matplotlib.pyplot as plt\n",
    "import pandas as pd"
   ]
  },
  {
   "cell_type": "markdown",
   "metadata": {},
   "source": []
  },
  {
   "cell_type": "code",
   "execution_count": 2,
   "metadata": {},
   "outputs": [
    {
     "name": "stdout",
     "output_type": "stream",
     "text": [
      "processed 7285 out of 7285\n"
     ]
    }
   ],
   "source": [
    "recs = []\n",
    "srs = []\n",
    "call_types = []\n",
    "df = pd.DataFrame()\n",
    "#data_dir = \"C:/Users/Jayde/Desktop/library/giant_otter/giant_otters/Audio_S1/\"\n",
    "data_dir = \"C:/Users/Jayde/Desktop/library/macaques/data/train/\"\n",
    "for file_name in os.listdir(data_dir):\n",
    "    recording, sr = lb.load(f'{data_dir}{file_name}', sr = 24414)\n",
    "    #print(file)\n",
    "    try:\n",
    "        call_type = file_name[:2]\n",
    "        recs.append(recording)\n",
    "        call_types.append(call_type)\n",
    "        srs.append(sr)\n",
    "    except:\n",
    "        #print(f\"skipped {file}\")\n",
    "        continue\n",
    "df[\"audio\"]= recs\n",
    "df[\"n_samples\"] = [len(audio)for audio in recs]\n",
    "df[\"type\"] = call_types\n",
    "print(f\"processed {len(recs)} out of {len(os.listdir(data_dir))}\")"
   ]
  },
  {
   "cell_type": "code",
   "execution_count": null,
   "metadata": {},
   "outputs": [],
   "source": [
    "def load_macaque_data(data_dir,slice_len, model_path, batch_size= 64):\n",
    "    recs = []\n",
    "    call_types = []\n",
    "    df = pd.DataFrame()\n",
    "    for file_name in os.listdir(data_dir):\n",
    "        recording, sr = lb.load(f'{data_dir}{file_name}', sr = 24414)\n",
    "        try:\n",
    "            call_type = file_name[:2]\n",
    "            recs.append(recording)\n",
    "            call_types.append(call_type)\n",
    "            srs.append(sr)\n",
    "        except:\n",
    "            continue\n",
    "    df[\"audio\"]= recs\n",
    "    df[\"n_samples\"] = [len(audio)for audio in recs]\n",
    "    df[\"type\"] = call_types\n",
    "    print(f\"processed {len(recs)} out of {len(os.listdir(data_dir))}\")\n",
    "    df= df.loc[df[\"n_samples\"]<=16384]\n",
    "    df = df[df[\"type\"].isin([\"TH\",\"MU\",\"IO\",\"AL\"])]\n",
    "    call_type_counts =filtered[\"type\"].value_counts()\n",
    "    #min_count = min(call_type_counts.values.tolist())\n",
    "    min_count =960\n",
    "\n",
    "    def sample_from_group(group):\n",
    "        return group.sample(min_count, replace=True)\n",
    "\n",
    "    # Apply the sampling function to each group\n",
    "    filtered = filtered.groupby('type', group_keys=False).apply(sample_from_group)\n",
    "\n",
    "    # Reset the index of the resulting DataFrame\n",
    "    filtered.reset_index(drop=True, inplace=True)\n",
    "    call_type_counts = filtered[\"type\"].value_counts()\n",
    "    print(call_type_counts)\n",
    "\n",
    "    n_train_data = (df.shape[0]//batch_size) *batch_size\n",
    "    audio = [centre_and_pad(signal, slice_len) for signal in df[\"audio\"]]\n",
    "    #audio = [bandpass_filter(signal,50,45000, sr) for signal in audio]\n",
    "    audio = np.array(audio)\n",
    "    \n",
    "    print(f\"reduced to {n_train_data} training samlples\")\n",
    "    labels = (pd.get_dummies(df['type']).values).astype('float32')\n",
    "\n",
    "\n",
    "    audio = np.expand_dims(audio, axis=-1)\n",
    "    return audio, labels\n"
   ]
  },
  {
   "cell_type": "code",
   "execution_count": 13,
   "metadata": {},
   "outputs": [
    {
     "data": {
      "image/png": "[encoded data removed]",
      "text/plain": [
       "<Figure size 640x480 with 1 Axes>"
      ]
     },
     "metadata": {},
     "output_type": "display_data"
    }
   ],
   "source": [
    "plt.bar(df[\"type\"].value_counts())\n",
    "plt.show()"
   ]
  },
  {
   "cell_type": "code",
   "execution_count": 17,
   "metadata": {},
   "outputs": [
    {
     "data": {
      "image/png": "[encoded data removed]",
      "text/plain": [
       "<Figure size 640x480 with 1 Axes>"
      ]
     },
     "metadata": {},
     "output_type": "display_data"
    }
   ],
   "source": [
    "durs =[len(rec)/sr for rec in recs]\n",
    "plt.hist(durs)\n",
    "plt.show()"
   ]
  },
  {
   "cell_type": "code",
   "execution_count": 18,
   "metadata": {},
   "outputs": [
    {
     "name": "stdout",
     "output_type": "stream",
     "text": [
      " max dur:0.6710903579913164 for slice len 16384. 6872 recordings -> train size 6848 (94.00137268359643 %)\n",
      " max dur:1.3421807159826329 for slice len 32768. 7279 recordings -> train size 7232 (99.27247769389156 %)\n",
      " max dur:2.6843614319652658 for slice len 65536. 7285 recordings -> train size 7232 (99.27247769389156 %)\n"
     ]
    }
   ],
   "source": [
    "slice_lens = [16384, 32768, 65536]\n",
    "total = len(durs)\n",
    "for slice_len in slice_lens:\n",
    "    dur = slice_len/24414\n",
    "    count = len([i for i in durs if i<= dur])\n",
    "    train_size = (count//64) *64\n",
    "    percent = (train_size/total)*100\n",
    "    print(f\" max dur:{dur} for slice len {slice_len}. {count} recordings -> train size {train_size} ({percent} %)\")"
   ]
  },
  {
   "cell_type": "code",
   "execution_count": 3,
   "metadata": {},
   "outputs": [],
   "source": [
    "sliced = df.loc[df[\"n_samples\"]<=16384]"
   ]
  },
  {
   "cell_type": "code",
   "execution_count": 4,
   "metadata": {},
   "outputs": [
    {
     "data": {
      "text/plain": [
       "TH    1058\n",
       "MU    1017\n",
       "IO    1002\n",
       "SN    1001\n",
       "AL     999\n",
       "QU     869\n",
       "BE     478\n",
       "TW     448\n",
       "Name: type, dtype: int64"
      ]
     },
     "execution_count": 4,
     "metadata": {},
     "output_type": "execute_result"
    }
   ],
   "source": [
    "sliced[\"type\"].value_counts()"
   ]
  },
  {
   "cell_type": "code",
   "execution_count": 19,
   "metadata": {},
   "outputs": [],
   "source": [
    "filtered = sliced[sliced[\"type\"].isin([\"TH\",\"MU\",\"IO\",\"AL\"])]"
   ]
  },
  {
   "cell_type": "code",
   "execution_count": 22,
   "metadata": {},
   "outputs": [
    {
     "name": "stdout",
     "output_type": "stream",
     "text": [
      "AL    999\n",
      "IO    999\n",
      "MU    999\n",
      "TH    999\n",
      "Name: type, dtype: int64\n"
     ]
    }
   ],
   "source": [
    "call_type_counts =filtered[\"type\"].value_counts()\n",
    "min_count = min(call_type_counts.values.tolist())\n",
    "\n",
    "def sample_from_group(group):\n",
    "    return group.sample(min_count, replace=True)\n",
    "\n",
    "# Apply the sampling function to each group\n",
    "filtered = filtered.groupby('type', group_keys=False).apply(sample_from_group)\n",
    "\n",
    "# Reset the index of the resulting DataFrame\n",
    "filtered.reset_index(drop=True, inplace=True)\n",
    "call_type_counts = filtered[\"type\"].value_counts()\n",
    "print(call_type_counts)"
   ]
  },
  {
   "cell_type": "code",
   "execution_count": 5,
   "metadata": {},
   "outputs": [
    {
     "data": {
      "text/plain": [
       "TH    1345\n",
       "MU    1017\n",
       "IO    1002\n",
       "SN    1001\n",
       "AL     999\n",
       "QU     975\n",
       "BE     478\n",
       "TW     468\n",
       "Name: type, dtype: int64"
      ]
     },
     "execution_count": 5,
     "metadata": {},
     "output_type": "execute_result"
    }
   ],
   "source": [
    "df[\"type\"].value_counts()"
   ]
  },
  {
   "cell_type": "code",
   "execution_count": 8,
   "metadata": {},
   "outputs": [
    {
     "name": "stdout",
     "output_type": "stream",
     "text": [
      "              mean          std\n",
      "type                           \n",
      "AL     5923.216216  1955.909022\n",
      "BE     2235.077406   701.751018\n",
      "IO     7953.593812  3430.387484\n",
      "MU     6937.176991  2190.237857\n",
      "QU    13211.862564  3796.935780\n",
      "SN     3764.456543   896.788813\n",
      "TH    13774.805948  3767.443090\n",
      "TW    10887.286325  3508.835519\n"
     ]
    }
   ],
   "source": [
    "grouped_df = df.groupby(\"type\")\n",
    "print(grouped_df[\"n_samples\"].agg(['mean', 'std']))\n"
   ]
  },
  {
   "cell_type": "code",
   "execution_count": 18,
   "metadata": {},
   "outputs": [
    {
     "data": {
      "image/png": "[encoded data removed]",
      "text/plain": [
       "<Figure size 640x480 with 1 Axes>"
      ]
     },
     "metadata": {},
     "output_type": "display_data"
    }
   ],
   "source": [
    "df.boxplot(column='n_samples', by='type', showfliers=False, widths=0.6, patch_artist=True, grid=False)\n",
    "\n",
    "plt.title('')\n",
    "plt.suptitle('')  # Removing default grouping title\n",
    "plt.xlabel('Call Type')\n",
    "plt.axhline(16384, color='r', linestyle=\"dashed\")\n",
    "plt.ylabel('Number of Samples')\n",
    "fig_dir = \"C:/Users/Jayde/Desktop/library/macaques/box_plot.png\"\n",
    "plt.savefig(fig_dir, dpi= 300, bbox_inches = \"tight\", transparent = True)\n",
    "plt.show()\n",
    "\n"
   ]
  },
  {
   "cell_type": "code",
   "execution_count": null,
   "metadata": {},
   "outputs": [],
   "source": []
  }
 ],
 "metadata": {
  "kernelspec": {
   "display_name": "base",
   "language": "python",
   "name": "python3"
  },
  "language_info": {
   "codemirror_mode": {
    "name": "ipython",
    "version": 3
   },
   "file_extension": ".py",
   "mimetype": "text/x-python",
   "name": "python",
   "nbconvert_exporter": "python",
   "pygments_lexer": "ipython3",
   "version": "3.8.8"
  }
 },
 "nbformat": 4,
 "nbformat_minor": 2
}
